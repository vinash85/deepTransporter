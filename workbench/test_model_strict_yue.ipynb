{
 "cells": [
  {
   "cell_type": "code",
   "execution_count": 1,
   "metadata": {},
   "outputs": [],
   "source": [
    "import os\n",
    "import torch\n",
    "from torch.cuda.amp import autocast, GradScaler\n",
    "from torch_geometric.data import Data\n",
    "import pandas as pd\n",
    "import numpy as np\n",
    "import torch.nn as nn\n",
    "from torch.nn import Linear\n",
    "import torch.nn.functional as F\n",
    "from torch_geometric.nn import GCNConv\n",
    "from sklearn.model_selection import train_test_split, StratifiedKFold\n",
    "from sklearn.metrics import accuracy_score\n",
    "import copy\n",
    "import random\n",
    "import multiprocessing as mp\n",
    "from torch_geometric.data import HeteroData\n",
    "import torch\n",
    "from torch_geometric.nn import GCNConv\n",
    "from sklearn.metrics import accuracy_score, precision_score, recall_score, f1_score, roc_auc_score\n",
    "import matplotlib.pyplot as plt\n",
    "from torch.optim.lr_scheduler import ReduceLROnPlateau"
   ]
  },
  {
   "cell_type": "code",
   "execution_count": 2,
   "metadata": {},
   "outputs": [],
   "source": [
    "# Enable CUDA debugging, use to block cuda calls until completion\n",
    "os.environ['CUDA_LAUNCH_BLOCKING'] = \"1\""
   ]
  },
  {
   "cell_type": "code",
   "execution_count": 3,
   "metadata": {},
   "outputs": [],
   "source": [
    "device = torch.device('cpu')  # Temporarily switch to CPU"
   ]
  },
  {
   "cell_type": "code",
   "execution_count": 4,
   "metadata": {},
   "outputs": [],
   "source": [
    "# Load node datasets\n",
    "s_df = pd.read_csv('/data/servilla/DT_HGNN/Model/Nodes/s_emb_full_183.csv', index_col=0) # Substrates\n",
    "p_df = pd.read_csv('/data/servilla/DT_HGNN/Model/Nodes/p_emb_full_237197.csv', index_col=0) # Proteins"
   ]
  },
  {
   "cell_type": "code",
   "execution_count": 5,
   "metadata": {},
   "outputs": [],
   "source": [
    "# Load edge datasets (combined with negative samples)\n",
    "ppi_df = pd.read_csv('/data/servilla/DT_HGNN/Model/Edges/combined_ppi_edges_full.csv') # Protein-Protein Interactions\n",
    "ssi_df = pd.read_csv('/data/servilla/DT_HGNN/Model/Edges/combined_ssi_edges_full.csv') # Substrate-Substrate Interactions\n",
    "tp_s_df = pd.read_csv('/data/servilla/DT_HGNN/Model/Edges/combined_tp_s_edges_full.csv',) # Transporter Protein-Substrate Interactions"
   ]
  },
  {
   "cell_type": "code",
   "execution_count": 6,
   "metadata": {},
   "outputs": [],
   "source": [
    "# Inspect and clean the data, node dataframes should be numeric\n",
    "def inspect_and_clean(df):\n",
    "    non_numeric_columns = df.select_dtypes(exclude=[np.number]).columns\n",
    "    print(f\"Non-numeric columns: {non_numeric_columns}\")\n",
    "    if len(non_numeric_columns) > 0:\n",
    "        df[non_numeric_columns] = df[non_numeric_columns].apply(pd.to_numeric, errors='coerce')\n",
    "    df = df.fillna(0)\n",
    "    return df"
   ]
  },
  {
   "cell_type": "code",
   "execution_count": 7,
   "metadata": {},
   "outputs": [],
   "source": [
    "# Enumerate the proteins and substrates for mapping\n",
    "def get_mapping(p_dataframe, s_dataframe):\n",
    "    protein_mapping = {protein_id: i for i, protein_id in enumerate(p_dataframe.index)}\n",
    "    substrate_mapping = {substrate_id: i for i, substrate_id in enumerate(s_dataframe.index)}\n",
    "    return protein_mapping, substrate_mapping\n"
   ]
  },
  {
   "cell_type": "code",
   "execution_count": 8,
   "metadata": {},
   "outputs": [],
   "source": [
    "# Map the edges to the enumerated proteins and substrates\n",
    "def map_edges(edge_df, source_mapping, target_mapping, edge_type):\n",
    "    edge_df = edge_df.copy()\n",
    "\n",
    "    # Apply mapping\n",
    "    edge_df['source'] = edge_df['source'].map(source_mapping)\n",
    "    edge_df['target'] = edge_df['target'].map(target_mapping)\n",
    "\n",
    "    # Drop rows with NaNs in mapped columns\n",
    "    edge_df.dropna(subset=['source', 'target'], inplace=True)\n",
    "      \n",
    "    return edge_df\n"
   ]
  },
  {
   "cell_type": "code",
   "execution_count": 9,
   "metadata": {},
   "outputs": [],
   "source": [
    "# Apply transformations in batches, this can be useful when dealing with large \n",
    "# datasets that may not fit into memory or GPU all at once. \n",
    "def transform_in_batches(features, transform_layer, batch_size=10000):\n",
    "    num_samples = features.shape[0]\n",
    "    print(f\"Number of samples: {num_samples}\")\n",
    "    transformed_features = []\n",
    "    for i in range(0, num_samples, batch_size):\n",
    "        batch = features[i:i + batch_size]\n",
    "        batch_tensor = torch.tensor(batch, dtype=torch.float).to(device)\n",
    "        transformed_batch = transform_layer(batch_tensor)\n",
    "        transformed_features.append(transformed_batch.detach().cpu().numpy())  # Use detach() before numpy()\n",
    "    return np.vstack(transformed_features) # Stack arrays in sequence vertically (row wise)\n"
   ]
  },
  {
   "cell_type": "code",
   "execution_count": 10,
   "metadata": {},
   "outputs": [],
   "source": [
    "# Function to remove rows where source or target is in test_proteins or test_substrates\n",
    "def filter_out_test_edges(df, protein_set, substrate_set):\n",
    "    # For cases where the DataFrame has both 'source' and 'target' columns\n",
    "    if 'source' in df.columns and 'target' in df.columns:\n",
    "        filtered_df = df[~(df['source'].isin(protein_set) | df['target'].isin(substrate_set))]\n",
    "    # For cases where the DataFrame only has an index, such as node DataFrames\n",
    "    else:\n",
    "        filtered_df = df[~df.index.isin(protein_set | substrate_set)]\n",
    "    return filtered_df"
   ]
  },
  {
   "cell_type": "code",
   "execution_count": 11,
   "metadata": {},
   "outputs": [],
   "source": [
    "def split_train_val_data(df, train_size=0.9, val_size=0.1):\n",
    "    # Split into train and validation (90% train, 10% validation)\n",
    "    train_df, val_df = train_test_split(df, train_size=train_size, random_state=42)\n",
    "    \n",
    "    return train_df, val_df\n"
   ]
  },
  {
   "cell_type": "code",
   "execution_count": 12,
   "metadata": {},
   "outputs": [],
   "source": [
    "# Create edge index tensors for training, validation, and test\n",
    "def get_tensor(df):\n",
    "    return torch.tensor(df[['source', 'target']].values.T, dtype=torch.long)\n"
   ]
  },
  {
   "cell_type": "code",
   "execution_count": 13,
   "metadata": {},
   "outputs": [],
   "source": [
    "# Labels remain the same\n",
    "def get_labels(df):\n",
    "    return torch.tensor(df['label'].values, dtype=torch.float)\n"
   ]
  },
  {
   "cell_type": "code",
   "execution_count": 14,
   "metadata": {},
   "outputs": [
    {
     "name": "stdout",
     "output_type": "stream",
     "text": [
      "Non-numeric columns: Index([], dtype='object')\n",
      "Non-numeric columns: Index([], dtype='object')\n"
     ]
    }
   ],
   "source": [
    "s_df = inspect_and_clean(s_df)\n",
    "p_df = inspect_and_clean(p_df)\n"
   ]
  },
  {
   "cell_type": "code",
   "execution_count": 15,
   "metadata": {},
   "outputs": [],
   "source": [
    "protein_mapping, substrate_mapping = get_mapping(p_df, s_df)"
   ]
  },
  {
   "cell_type": "code",
   "execution_count": 16,
   "metadata": {},
   "outputs": [],
   "source": [
    "# Apply the debugging function to map edges\n",
    "mapped_ppi_edges_df = map_edges(ppi_df, protein_mapping, protein_mapping, 'PPI')\n",
    "mapped_ssi_edges_df = map_edges(ssi_df, substrate_mapping, substrate_mapping, 'SSI')\n",
    "mapped_tp_s_df = map_edges(tp_s_df, protein_mapping, substrate_mapping, 'TP-S')"
   ]
  },
  {
   "cell_type": "code",
   "execution_count": 17,
   "metadata": {},
   "outputs": [
    {
     "name": "stdout",
     "output_type": "stream",
     "text": [
      "          source  target  label\n",
      "0         157025  225772      1\n",
      "1         187416  234940      1\n",
      "2         234940  187416      1\n",
      "3         225772  100854      1\n",
      "4         225772  157025      1\n",
      "...          ...     ...    ...\n",
      "13327041  106801   24539      0\n",
      "13327042  106199  133771      0\n",
      "13327043   98851   90276      0\n",
      "13327044  191132   11958      0\n",
      "13327045  229284  226859      0\n",
      "\n",
      "[13327046 rows x 3 columns]\n",
      "      source  target  label\n",
      "0         89      17      1\n",
      "1         17      89      1\n",
      "2         99      78      1\n",
      "3         78      99      1\n",
      "4         19     129      1\n",
      "...      ...     ...    ...\n",
      "4349      71      33      0\n",
      "4350      92      97      0\n",
      "4351     140     145      0\n",
      "4352      24     153      0\n",
      "4353      86      81      0\n",
      "\n",
      "[4354 rows x 3 columns]\n",
      "       source  target  label\n",
      "0      110150       0      1\n",
      "1      113110       0      1\n",
      "2       94944      63      1\n",
      "3       86624      63      1\n",
      "4      132714       0      1\n",
      "...       ...     ...    ...\n",
      "26675  121855      84      0\n",
      "26676  168315     165      0\n",
      "26677  160022      19      0\n",
      "26678  209477     122      0\n",
      "26679  230141     115      0\n",
      "\n",
      "[26680 rows x 3 columns]\n"
     ]
    }
   ],
   "source": [
    "print(mapped_ppi_edges_df)\n",
    "print(mapped_ssi_edges_df)\n",
    "print(mapped_tp_s_df)"
   ]
  },
  {
   "cell_type": "code",
   "execution_count": 18,
   "metadata": {},
   "outputs": [
    {
     "name": "stdout",
     "output_type": "stream",
     "text": [
      "Training set size: 26630\n",
      "Test set size: 50\n"
     ]
    }
   ],
   "source": [
    "from sklearn.model_selection import train_test_split\n",
    "\n",
    "# Randomly select 50 samples for the test set from the mapped tp_s_df\n",
    "test_tp_s_df = tp_s_df.sample(n=50, random_state=42)\n",
    "\n",
    "# Remove the selected test samples from the original mapped_tp_s_df to form the training set\n",
    "train_tp_s_df = tp_s_df.drop(test_tp_s_df.index)\n",
    "\n",
    "# Check the sizes of the resulting DataFrames\n",
    "print(f\"Training set size: {train_tp_s_df.shape[0]}\")\n",
    "print(f\"Test set size: {test_tp_s_df.shape[0]}\")\n"
   ]
  },
  {
   "cell_type": "code",
   "execution_count": 19,
   "metadata": {},
   "outputs": [
    {
     "name": "stdout",
     "output_type": "stream",
     "text": [
      "Protein training set size: 237147\n",
      "Protein test set size: 50\n",
      "Substrate training set size: 147\n",
      "Substrate test set size: 36\n"
     ]
    }
   ],
   "source": [
    "# Convert the mapped indices back to the original Uniprot IDs and ChEBI IDs\n",
    "test_proteins = test_tp_s_df['source'].unique()\n",
    "test_substrates = test_tp_s_df['target'].unique()\n",
    "\n",
    "# Step 2: Split p_df into train and test based on test_proteins\n",
    "p_test_df = p_df[p_df.index.isin(test_proteins)]  # Test set for proteins\n",
    "p_train_df = p_df[~p_df.index.isin(test_proteins)]  # Train set for proteins\n",
    "\n",
    "# Step 3: Split s_df into train and test based on test_substrates\n",
    "s_test_df = s_df[s_df.index.isin(test_substrates)]  # Test set for substrates\n",
    "s_train_df = s_df[~s_df.index.isin(test_substrates)]  # Train set for substrates\n",
    "\n",
    "# Check the sizes of the resulting DataFrames\n",
    "print(f\"Protein training set size: {p_train_df.shape[0]}\")\n",
    "print(f\"Protein test set size: {p_test_df.shape[0]}\")\n",
    "print(f\"Substrate training set size: {s_train_df.shape[0]}\")\n",
    "print(f\"Substrate test set size: {s_test_df.shape[0]}\")\n"
   ]
  },
  {
   "cell_type": "code",
   "execution_count": 20,
   "metadata": {},
   "outputs": [],
   "source": [
    "# train_tp_s_df.to_csv('/data/servilla/DT_HGNN/Model/Strict_testing_datasets/STD_Edges/train_tp_s_edges.csv', index=False)\n",
    "# test_tp_s_df.to_csv('/data/servilla/DT_HGNN/Model/Strict_testing_datasets/STD_Edges/test_tp_s_edges.csv', index=False)\n",
    "# ppi_df.to_csv('/data/servilla/DT_HGNN/Model/Strict_testing_datasets/STD_Edges/ppi_edges.csv', index=False)\n",
    "# ssi_df.to_csv('/data/servilla/DT_HGNN/Model/Strict_testing_datasets/STD_Edges/ssi_edges.csv', index=False)\n",
    "# p_train_df.to_csv('/data/servilla/DT_HGNN/Model/Strict_testing_datasets/STD_Nodes/p_train.csv')\n",
    "# p_test_df.to_csv('/data/servilla/DT_HGNN/Model/Strict_testing_datasets/STD_Nodes/p_test.csv')\n",
    "# s_train_df.to_csv('/data/servilla/DT_HGNN/Model/Strict_testing_datasets/STD_Nodes/s_train.csv')\n",
    "# s_test_df.to_csv('/data/servilla/DT_HGNN/Model/Strict_testing_datasets/STD_Nodes/s_test.csv')"
   ]
  },
  {
   "cell_type": "code",
   "execution_count": 21,
   "metadata": {},
   "outputs": [],
   "source": [
    "# Convert features to numpy arrays\n",
    "s_features = s_train_df.values\n",
    "p_features = p_train_df.values"
   ]
  },
  {
   "cell_type": "code",
   "execution_count": 22,
   "metadata": {},
   "outputs": [
    {
     "name": "stdout",
     "output_type": "stream",
     "text": [
      "s_features shape: (147, 1536)\n",
      "p_features shape: (237147, 2048)\n"
     ]
    }
   ],
   "source": [
    "# Check shapes to ensure correct dimensions\n",
    "print(f\"s_features shape: {s_features.shape}\")  # Expected (?, 1536)\n",
    "print(f\"p_features shape: {p_features.shape}\")  # Expected (?, 2048)\n"
   ]
  },
  {
   "cell_type": "code",
   "execution_count": 23,
   "metadata": {},
   "outputs": [],
   "source": [
    "# Calculate and store training statistics\n",
    "train_mean_s = np.mean(s_features, axis=0)\n",
    "train_std_s = np.std(s_features, axis=0)\n",
    "train_mean_p = np.mean(p_features, axis=0)\n",
    "train_std_p = np.std(p_features, axis=0)\n",
    "\n",
    "# Normalize using training statistics\n",
    "s_features = (s_features - train_mean_s) / train_std_s\n",
    "p_features = (p_features - train_mean_p) / train_std_p\n"
   ]
  },
  {
   "cell_type": "code",
   "execution_count": 24,
   "metadata": {},
   "outputs": [
    {
     "name": "stdout",
     "output_type": "stream",
     "text": [
      "s_features shape: (147, 1536)\n",
      "p_features shape: (237147, 2048)\n"
     ]
    }
   ],
   "source": [
    "# Check shapes to ensure correct dimensions\n",
    "print(f\"s_features shape: {s_features.shape}\")  # Expected (?, 1536)\n",
    "print(f\"p_features shape: {p_features.shape}\")  # Expected (?, 2048)\n"
   ]
  },
  {
   "cell_type": "code",
   "execution_count": 25,
   "metadata": {},
   "outputs": [],
   "source": [
    "# Define the transformation layers, changes the number of features 1536 -> 2048\n",
    "# for substrates and 2048 -> 2048 for proteins. The transform_p layer is useful \n",
    "# for transforming the feature representation within the same dimensional space,\n",
    "#  y = Wx + b.\n",
    "\n",
    "transform_s = Linear(1536, 2048).to(device) # Change depending on the number of features\n",
    "transform_p = Linear(2048, 2048).to(device)"
   ]
  },
  {
   "cell_type": "code",
   "execution_count": 26,
   "metadata": {},
   "outputs": [
    {
     "name": "stdout",
     "output_type": "stream",
     "text": [
      "Number of samples: 147\n",
      "Number of samples: 237147\n"
     ]
    }
   ],
   "source": [
    "# Perform the transformations in batches\n",
    "s_features_transformed = transform_in_batches(s_features, transform_s)\n",
    "p_features_transformed = transform_in_batches(p_features, transform_p)\n"
   ]
  },
  {
   "cell_type": "code",
   "execution_count": 27,
   "metadata": {},
   "outputs": [
    {
     "name": "stdout",
     "output_type": "stream",
     "text": [
      "s_features_transformed shape: (147, 2048)\n",
      "p_features_transformed shape: (237147, 2048)\n"
     ]
    }
   ],
   "source": [
    "# Check shapes to ensure correct dimensions\n",
    "print(f\"s_features_transformed shape: {s_features_transformed.shape}\")  # Expected (?, 2048)\n",
    "print(f\"p_features_transformed shape: {p_features_transformed.shape}\")  # Expected (?, 2048)\n"
   ]
  },
  {
   "cell_type": "code",
   "execution_count": 28,
   "metadata": {},
   "outputs": [],
   "source": [
    "# Convert back to tensors\n",
    "s_features_tensor = torch.tensor(s_features_transformed, dtype=torch.float).to(device)\n",
    "p_features_tensor = torch.tensor(p_features_transformed, dtype=torch.float).to(device)\n"
   ]
  },
  {
   "cell_type": "code",
   "execution_count": 29,
   "metadata": {},
   "outputs": [],
   "source": [
    "# Combine features, vertically stacks features (dim=0) to create a single tensor\n",
    "all_features = torch.cat([p_features_tensor, s_features_tensor], dim=0)\n"
   ]
  },
  {
   "cell_type": "code",
   "execution_count": 30,
   "metadata": {},
   "outputs": [
    {
     "name": "stdout",
     "output_type": "stream",
     "text": [
      "all_features shape: torch.Size([237294, 2048])\n"
     ]
    }
   ],
   "source": [
    "print(f\"all_features shape: {all_features.shape}\")  # Expected (?, 2048)"
   ]
  },
  {
   "cell_type": "code",
   "execution_count": 31,
   "metadata": {},
   "outputs": [],
   "source": [
    "# protein_ids = set(p_df.index)\n",
    "# substrate_ids = set(s_df.index)\n"
   ]
  },
  {
   "cell_type": "code",
   "execution_count": 32,
   "metadata": {},
   "outputs": [],
   "source": [
    "protein_mapping, substrate_mapping = get_mapping(p_train_df, s_train_df)\n"
   ]
  },
  {
   "cell_type": "code",
   "execution_count": 33,
   "metadata": {},
   "outputs": [],
   "source": [
    "# Get the unique source and target values from test_tp_s_df\n",
    "test_proteins = set(test_tp_s_df['source'].unique())\n",
    "test_substrates = set(test_tp_s_df['target'].unique())\n"
   ]
  },
  {
   "cell_type": "code",
   "execution_count": 34,
   "metadata": {},
   "outputs": [
    {
     "data": {
      "text/plain": [
       "(50, 36)"
      ]
     },
     "execution_count": 34,
     "metadata": {},
     "output_type": "execute_result"
    }
   ],
   "source": [
    "len(test_proteins), len(test_substrates)"
   ]
  },
  {
   "cell_type": "code",
   "execution_count": 35,
   "metadata": {},
   "outputs": [
    {
     "name": "stdout",
     "output_type": "stream",
     "text": [
      "(26630, 3)\n",
      "(13327046, 3)\n",
      "(4354, 3)\n"
     ]
    }
   ],
   "source": [
    "print(train_tp_s_df.shape)\n",
    "print(ppi_df.shape)\n",
    "print(ssi_df.shape)"
   ]
  },
  {
   "cell_type": "code",
   "execution_count": 36,
   "metadata": {},
   "outputs": [],
   "source": [
    "# Apply the function to remove rows from all DataFrames\n",
    "train_tp_s_df = filter_out_test_edges(train_tp_s_df, test_proteins, test_substrates)\n",
    "ppi_filtered_df = filter_out_test_edges(ppi_df, test_proteins, test_proteins)  # PPI only involves proteins\n",
    "ssi_filtered_df = filter_out_test_edges(ssi_df, test_substrates, test_substrates)  # SSI only involves substrates\n"
   ]
  },
  {
   "cell_type": "code",
   "execution_count": 37,
   "metadata": {},
   "outputs": [
    {
     "name": "stdout",
     "output_type": "stream",
     "text": [
      "(12288, 3)\n",
      "(13322673, 3)\n",
      "(2434, 3)\n"
     ]
    }
   ],
   "source": [
    "print(train_tp_s_df.shape)\n",
    "print(ppi_filtered_df.shape)\n",
    "print(ssi_filtered_df.shape)"
   ]
  },
  {
   "cell_type": "code",
   "execution_count": 38,
   "metadata": {},
   "outputs": [],
   "source": [
    "# Apply the debugging function to map edges\n",
    "mapped_ppi_edges_df = map_edges(ppi_filtered_df, protein_mapping, protein_mapping, 'PPI')\n",
    "mapped_ssi_edges_df = map_edges(ssi_filtered_df, substrate_mapping, substrate_mapping, 'SSI')\n",
    "mapped_tp_s_df = map_edges(train_tp_s_df, protein_mapping, substrate_mapping, 'TP-S')\n"
   ]
  },
  {
   "cell_type": "code",
   "execution_count": 39,
   "metadata": {},
   "outputs": [
    {
     "name": "stdout",
     "output_type": "stream",
     "text": [
      "          source  target  label\n",
      "0         156986  225723      1\n",
      "1         187373  234890      1\n",
      "2         234890  187373      1\n",
      "3         225723  100833      1\n",
      "4         225723  156986      1\n",
      "...          ...     ...    ...\n",
      "13327041  106776   24533      0\n",
      "13327042  106176  133739      0\n",
      "13327043   98830   90256      0\n",
      "13327044  191089   11956      0\n",
      "13327045  229235  226810      0\n",
      "\n",
      "[13322673 rows x 3 columns]\n",
      "      source  target  label\n",
      "0         72      13      1\n",
      "1         13      72      1\n",
      "2         79      61      1\n",
      "3         61      79      1\n",
      "14       121     118      1\n",
      "...      ...     ...    ...\n",
      "4348      45      29      0\n",
      "4349      54      25      0\n",
      "4351     111     115      0\n",
      "4352      17     122      0\n",
      "4353      69      64      0\n",
      "\n",
      "[2434 rows x 3 columns]\n",
      "       source  target  label\n",
      "13     124256      50      1\n",
      "26      85773      89      1\n",
      "57      93838      50      1\n",
      "76      93422      50      1\n",
      "79     135469       0      1\n",
      "...       ...     ...    ...\n",
      "26673   73793      59      0\n",
      "26674  220487       5      0\n",
      "26675  121825      67      0\n",
      "26678  209431      97      0\n",
      "26679  230092      92      0\n",
      "\n",
      "[12288 rows x 3 columns]\n"
     ]
    }
   ],
   "source": [
    "print(mapped_ppi_edges_df)\n",
    "print(mapped_ssi_edges_df)\n",
    "print(mapped_tp_s_df)"
   ]
  },
  {
   "cell_type": "code",
   "execution_count": 40,
   "metadata": {},
   "outputs": [],
   "source": [
    "# Split data for each edge type (without test, as test is predefined)\n",
    "ppi_train_df, ppi_val_df = split_train_val_data(mapped_ppi_edges_df)\n",
    "ssi_train_df, ssi_val_df = split_train_val_data(mapped_ssi_edges_df)\n",
    "tp_s_train_df, tp_s_val_df = split_train_val_data(mapped_tp_s_df)\n"
   ]
  },
  {
   "cell_type": "code",
   "execution_count": 41,
   "metadata": {},
   "outputs": [],
   "source": [
    "# Create edge index tensors for training, validation, and test\n",
    "train_edges_tp_s = torch.tensor(tp_s_train_df[['source', 'target']].values.T, dtype=torch.long)\n",
    "val_edges_tp_s = torch.tensor(tp_s_val_df[['source', 'target']].values.T, dtype=torch.long)\n",
    "\n",
    "train_edges_ppi = torch.tensor(ppi_train_df[['source', 'target']].values.T, dtype=torch.long)\n",
    "val_edges_ppi = torch.tensor(ppi_val_df[['source', 'target']].values.T, dtype=torch.long)\n",
    "\n",
    "train_edges_ssi = torch.tensor(ssi_train_df[['source', 'target']].values.T, dtype=torch.long)\n",
    "val_edges_ssi = torch.tensor(ssi_val_df[['source', 'target']].values.T, dtype=torch.long)\n",
    "# Labels remain the same\n",
    "train_labels_tp_s = torch.tensor(tp_s_train_df['label'].values, dtype=torch.float)\n",
    "val_labels_tp_s = torch.tensor(tp_s_val_df['label'].values, dtype=torch.float)\n",
    "\n",
    "train_labels_ppi = torch.tensor(ppi_train_df['label'].values, dtype=torch.float)\n",
    "val_labels_ppi = torch.tensor(ppi_val_df['label'].values, dtype=torch.float)\n",
    "\n",
    "train_labels_ssi = torch.tensor(ssi_train_df['label'].values, dtype=torch.float)\n",
    "val_labels_ssi = torch.tensor(ssi_val_df['label'].values, dtype=torch.float)\n"
   ]
  },
  {
   "cell_type": "code",
   "execution_count": 42,
   "metadata": {},
   "outputs": [
    {
     "name": "stdout",
     "output_type": "stream",
     "text": [
      "p_df: (237197, 2048)\n",
      "p_train_df: (237147, 2048)\n",
      "p_test_df: (50, 2048)\n",
      "s_df: (183, 1536)\n",
      "s_train_df: (147, 1536)\n",
      "s_test_df: (36, 1536)\n",
      "tp_s_df: (26680, 3)\n",
      "test_tp_s_df: (50, 3)\n",
      "train_tp_s_df: (12288, 3)\n",
      "ppi_df: (13327046, 3)\n",
      "ppi_filtered_df: (13322673, 3)\n",
      "ssi_df: (4354, 3)\n",
      "ssi_filtered_df: (2434, 3)\n",
      "Training TP-S edges: torch.Size([2, 11059])\n",
      "Validation TP-S edges: torch.Size([2, 1229])\n",
      "Training PPI edges: torch.Size([2, 11990405])\n",
      "Validation PPI edges: torch.Size([2, 1332268])\n",
      "Training SSI edges: torch.Size([2, 2190])\n",
      "Validation SSI edges: torch.Size([2, 244])\n"
     ]
    }
   ],
   "source": [
    "print(f\"p_df: {p_df.shape}\")\n",
    "print(f\"p_train_df: {p_train_df.shape}\")\n",
    "print(f\"p_test_df: {p_test_df.shape}\")\n",
    "print(f\"s_df: {s_df.shape}\")\n",
    "print(f\"s_train_df: {s_train_df.shape}\")\n",
    "print(f\"s_test_df: {s_test_df.shape}\")\n",
    "print(f\"tp_s_df: {tp_s_df.shape}\")\n",
    "print(f\"test_tp_s_df: {test_tp_s_df.shape}\")\n",
    "print(f\"train_tp_s_df: {train_tp_s_df.shape}\")\n",
    "print(f\"ppi_df: {ppi_df.shape}\")\n",
    "print(f\"ppi_filtered_df: {ppi_filtered_df.shape}\")\n",
    "print(f\"ssi_df: {ssi_df.shape}\")\n",
    "print(f\"ssi_filtered_df: {ssi_filtered_df.shape}\")\n",
    "print(f\"Training TP-S edges: {train_edges_tp_s.shape}\")\n",
    "print(f\"Validation TP-S edges: {val_edges_tp_s.shape}\")\n",
    "print(f\"Training PPI edges: {train_edges_ppi.shape}\")\n",
    "print(f\"Validation PPI edges: {val_edges_ppi.shape}\")\n",
    "print(f\"Training SSI edges: {train_edges_ssi.shape}\")\n",
    "print(f\"Validation SSI edges: {val_edges_ssi.shape}\")\n",
    "\n"
   ]
  },
  {
   "cell_type": "code",
   "execution_count": 43,
   "metadata": {},
   "outputs": [],
   "source": [
    "positive_tp_s_train_df = tp_s_train_df[tp_s_train_df['label'] == 1]\n",
    "\n",
    "train_edges_tp_s_positive = torch.tensor(positive_tp_s_train_df[['source', 'target']].values.T, dtype=torch.long)\n",
    "\n",
    "positive_ppi_train_df = ppi_train_df[ppi_train_df['label'] == 1]\n",
    "\n",
    "train_edges_ppi_positive = torch.tensor(positive_ppi_train_df[['source', 'target']].values.T, dtype=torch.long)\n",
    "\n",
    "positive_ssi_train_df = ssi_train_df[ssi_train_df['label'] == 1]\n",
    "\n",
    "train_edges_ssi_positive = torch.tensor(positive_ssi_train_df[['source', 'target']].values.T, dtype=torch.long)"
   ]
  },
  {
   "cell_type": "code",
   "execution_count": 44,
   "metadata": {},
   "outputs": [
    {
     "name": "stdout",
     "output_type": "stream",
     "text": [
      "Positive TP-S edges: torch.Size([2, 1422])\n",
      "Positive PPI edges: torch.Size([2, 5995805])\n",
      "Positive SSI edges: torch.Size([2, 897])\n"
     ]
    }
   ],
   "source": [
    "print(f\"Positive TP-S edges: {train_edges_tp_s_positive.shape}\")\n",
    "print(f\"Positive PPI edges: {train_edges_ppi_positive.shape}\")\n",
    "print(f\"Positive SSI edges: {train_edges_ssi_positive.shape}\")\n"
   ]
  },
  {
   "cell_type": "code",
   "execution_count": 45,
   "metadata": {},
   "outputs": [],
   "source": [
    "data = HeteroData()\n",
    "\n",
    "# Assign node features\n",
    "data['protein'].x = p_features_tensor\n",
    "data['substrate'].x = s_features_tensor\n",
    "\n",
    "# Assign training edges\n",
    "data['protein', 'interacts_with', 'substrate'].edge_index = train_edges_tp_s_positive #train_edges_tp_s \n",
    "data['protein', 'interacts_with', 'protein'].edge_index = train_edges_ppi_positive #train_edges_ppi \n",
    "data['substrate', 'interacts_with', 'substrate'].edge_index = train_edges_ssi_positive #train_edges_ssi \n"
   ]
  },
  {
   "cell_type": "code",
   "execution_count": 46,
   "metadata": {},
   "outputs": [],
   "source": [
    "# Define the model\n",
    "class GCNLinkPredictor(nn.Module):\n",
    "    def __init__(self, protein_dim, substrate_dim, hidden_channels):\n",
    "        super(GCNLinkPredictor, self).__init__()\n",
    "        # GCN layers for protein and substrate\n",
    "        self.protein_conv1 = GCNConv(protein_dim, hidden_channels)\n",
    "        self.substrate_conv1 = GCNConv(substrate_dim, hidden_channels)\n",
    "        self.protein_conv2 = GCNConv(hidden_channels, hidden_channels)\n",
    "        self.substrate_conv2 = GCNConv(hidden_channels, hidden_channels)\n",
    "\n",
    "        # Update projection layer to match concatenated dimensions\n",
    "        # self.projection_layer = nn.Linear(feature size INPUT, feature size OUTPUT)\n",
    "        self.projection_layer = Linear(hidden_channels * 2, 128)  # Modify the input dimension to match z_combined\n",
    "\n",
    "\n",
    "        # Link predictor remains the same\n",
    "        self.link_predictor = nn.Sequential(\n",
    "            nn.Linear(128, hidden_channels),\n",
    "            nn.ReLU(),\n",
    "            nn.Linear(hidden_channels, 1)\n",
    "        )\n",
    "\n",
    "    def encode(self, x_dict, edge_index_dict):\n",
    "        # Handle protein-protein edges if available\n",
    "        if ('protein', 'interacts_with', 'protein') in edge_index_dict:\n",
    "            z_protein = self.protein_conv1(x_dict['protein'], edge_index_dict[('protein', 'interacts_with', 'protein')])\n",
    "            z_protein = self.protein_conv2(z_protein, edge_index_dict[('protein', 'interacts_with', 'protein')])\n",
    "        else:\n",
    "            z_protein = x_dict['protein']  # Fallback to node features if no PPI edges\n",
    "\n",
    "        # Handle substrate-substrate edges if available\n",
    "        if ('substrate', 'interacts_with', 'substrate') in edge_index_dict:\n",
    "            z_substrate = self.substrate_conv1(x_dict['substrate'], edge_index_dict[('substrate', 'interacts_with', 'substrate')])\n",
    "            z_substrate = self.substrate_conv2(z_substrate, edge_index_dict[('substrate', 'interacts_with', 'substrate')])\n",
    "        else:\n",
    "            z_substrate = x_dict['substrate']  # Fallback to node features if no SSI edges\n",
    "\n",
    "        # Handle transporter protein-substrate edges (TP-S) if available\n",
    "        if ('protein', 'interacts_with', 'substrate') in edge_index_dict:\n",
    "            # print(f\"Shape of substrate embeddings: {x_dict['substrate'].shape}\")\n",
    "            # print(f\"Shape of protein embeddings: {x_dict['protein'].shape}\")\n",
    "            \n",
    "            # Extract the TP-S edge indices (connecting proteins to substrates)\n",
    "            edge_indices = edge_index_dict[('protein', 'interacts_with', 'substrate')]\n",
    "            \n",
    "            # print(f\"Max index in TP-S edges: {edge_indices.max()}\")\n",
    "            # print(f\"Min index in TP-S edges: {edge_indices.min()}\")\n",
    "            \n",
    "            # Sanity check for out-of-bounds indices\n",
    "            if edge_indices[1].max() >= x_dict['substrate'].shape[0]:\n",
    "                raise ValueError(\"Invalid substrate index in TP-S edges\")\n",
    "            if edge_indices[0].max() >= x_dict['protein'].shape[0]:\n",
    "                raise ValueError(\"Invalid protein index in TP-S edges\")\n",
    "            \n",
    "            # Extract source (protein) and target (substrate) indices separately\n",
    "            protein_indices = edge_indices[0]  # Source (proteins)\n",
    "            substrate_indices = edge_indices[1]  # Target (substrates)\n",
    "            \n",
    "            # Apply GCN layers separately to proteins and substrates using the corresponding indices\n",
    "            z_protein_tp_s = self.protein_conv1(x_dict['protein'], torch.stack([protein_indices, protein_indices], dim=0))\n",
    "            z_substrate_tp_s = self.substrate_conv1(x_dict['substrate'], torch.stack([substrate_indices, substrate_indices], dim=0))\n",
    "            \n",
    "            # Combine the information from TP-S edges with the updated protein and substrate embeddings\n",
    "            z_protein += z_protein_tp_s  # Aggregate TP-S information into protein embeddings\n",
    "            z_substrate += z_substrate_tp_s  # Aggregate TP-S information into substrate embeddings\n",
    "\n",
    "        return z_protein, z_substrate\n",
    "\n",
    "\n",
    "\n",
    "    def forward(self, x_dict, edge_index_dict, edges):\n",
    "        # Encode the nodes using the defined GCN layers\n",
    "        z_protein, z_substrate = self.encode(x_dict, edge_index_dict)\n",
    "\n",
    "        # Print the shapes of the embeddings\n",
    "        # print(f\"Shape of z_protein: {z_protein.shape}\")  # Should be [num_samples, hidden_channels]\n",
    "        # print(f\"Shape of z_substrate: {z_substrate.shape}\")  # Should be [num_samples, hidden_channels]\n",
    "\n",
    "        # Ensure the correct dimensions are being concatenated\n",
    "        # print(f\"Shape of z_protein[edges[0]]: {z_protein[edges[0]].shape}\")\n",
    "        # print(f\"Shape of z_substrate[edges[1]]: {z_substrate[edges[1]].shape}\")\n",
    "\n",
    "        # Concatenate the protein and substrate embeddings along the feature dimension\n",
    "        z_combined = torch.cat([z_protein[edges[0]], z_substrate[edges[1]]], dim=-1)\n",
    "        # print(f\"Shape of z_combined: {z_combined.shape}\")  # Should be [num_samples, hidden_channels * 2]\n",
    "\n",
    "        # # Adjust projection layer input dimension if necessary\n",
    "        # if z_combined.shape[1] != self.projection_layer.in_features:\n",
    "        #     self.projection_layer = nn.Linear(z_combined.shape[1], z_combined.shape[1])  # Update input dim\n",
    "\n",
    "        # Project the concatenated embeddings to the correct size expected by link_predictor\n",
    "        z_projected = self.projection_layer(z_combined)\n",
    "        # print(f\"Shape of z_projected: {z_projected.shape}\")  # Should be [num_samples, hidden_channels * 2]\n",
    "\n",
    "        # Pass the projected embeddings through the link predictor\n",
    "        return self.link_predictor(z_projected).squeeze()"
   ]
  },
  {
   "cell_type": "code",
   "execution_count": 47,
   "metadata": {},
   "outputs": [],
   "source": [
    "# Initialize the model\n",
    "model = GCNLinkPredictor(protein_dim=2048, substrate_dim=2048, hidden_channels=64).to(device)\n",
    "optimizer = torch.optim.Adam(model.parameters(), lr=1e-4)\n",
    "criterion = torch.nn.BCEWithLogitsLoss()\n",
    "\n",
    "# Early stopping parameters\n",
    "patience = 10  # Number of epochs to wait before stopping if no improvement\n",
    "best_val_loss = float('inf')\n",
    "epochs_without_improvement = 0\n",
    "\n",
    "# Learning Rate Scheduler\n",
    "scheduler = ReduceLROnPlateau(optimizer, mode='min', factor=0.1, patience=4)\n",
    "\n",
    "\n",
    "# Assuming `data` contains x_dict and edge_index_dict\n",
    "x_dict = data.x_dict\n",
    "edge_index_dict = data.edge_index_dict\n",
    "\n",
    "\n",
    "\n",
    "# Update the train, validate, and test functions as needed\n",
    "def train(x_dict, edge_index_dict, train_edges_tp_s, train_labels_tp_s): \n",
    "    model.train()\n",
    "    optimizer.zero_grad()\n",
    "    out = model(x_dict, edge_index_dict, train_edges_tp_s)\n",
    "    loss = criterion(out, train_labels_tp_s)\n",
    "    loss.backward()\n",
    "    optimizer.step()\n",
    "    return loss.item(), out.detach()\n",
    "\n",
    "def validate():\n",
    "    model.eval()\n",
    "    with torch.no_grad():\n",
    "        out = model(data.x_dict, data.edge_index_dict, val_edges_tp_s)\n",
    "        loss = criterion(out, val_labels_tp_s)\n",
    "    return loss.item(), out\n",
    "\n",
    "def test(x_dict, edge_index_dict, test_edges_tp_s, test_labels_tp_s):\n",
    "    model.eval()\n",
    "    with torch.no_grad():\n",
    "        out = model(x_dict, edge_index_dict, test_edges_tp_s)\n",
    "        loss = criterion(out, test_labels_tp_s)\n",
    "        accuracy, precision, recall, f1, auc = calculate_metrics(test_labels_tp_s, out)\n",
    "    return loss.item(), accuracy, precision, recall, f1, auc\n",
    "\n",
    "# Calculate additional metrics\n",
    "def calculate_metrics(labels, preds):\n",
    "    preds = torch.sigmoid(preds).cpu().numpy()\n",
    "    preds_binary = (preds > 0.5).astype(int)\n",
    "    labels = labels.cpu().numpy()\n",
    "\n",
    "    accuracy = accuracy_score(labels, preds_binary)\n",
    "    precision = precision_score(labels, preds_binary)\n",
    "    recall = recall_score(labels, preds_binary)\n",
    "    f1 = f1_score(labels, preds_binary)\n",
    "    auc = roc_auc_score(labels, preds)\n",
    "\n",
    "    return accuracy, precision, recall, f1, auc"
   ]
  },
  {
   "cell_type": "code",
   "execution_count": 48,
   "metadata": {},
   "outputs": [
    {
     "name": "stdout",
     "output_type": "stream",
     "text": [
      "Epoch 1, Train Loss: 0.6166, Validation Loss: 0.6093, Val Accuracy: 0.8641, Precision: 0.0000, Recall: 0.0000, F1: 0.0000, AUC: 0.3507, LR: 0.0001\n",
      "Epoch 2, Train Loss: 0.6089, Validation Loss: 0.6018, Val Accuracy: 0.8649, Precision: 0.0000, Recall: 0.0000, F1: 0.0000, AUC: 0.4159, LR: 0.0001\n",
      "Epoch 3, Train Loss: 0.6010, Validation Loss: 0.5941, Val Accuracy: 0.8649, Precision: 0.0000, Recall: 0.0000, F1: 0.0000, AUC: 0.4883, LR: 0.0001\n",
      "Epoch 4, Train Loss: 0.5931, Validation Loss: 0.5864, Val Accuracy: 0.8666, Precision: 0.5000, Recall: 0.0061, F1: 0.0120, AUC: 0.5615, LR: 0.0001\n",
      "Epoch 5, Train Loss: 0.5850, Validation Loss: 0.5785, Val Accuracy: 0.8666, Precision: 0.5000, Recall: 0.0061, F1: 0.0120, AUC: 0.6292, LR: 0.0001\n",
      "Epoch 6, Train Loss: 0.5769, Validation Loss: 0.5705, Val Accuracy: 0.8657, Precision: 0.0000, Recall: 0.0000, F1: 0.0000, AUC: 0.6878, LR: 0.0001\n",
      "Epoch 7, Train Loss: 0.5686, Validation Loss: 0.5623, Val Accuracy: 0.8666, Precision: 0.5000, Recall: 0.0061, F1: 0.0120, AUC: 0.7343, LR: 0.0001\n",
      "Epoch 8, Train Loss: 0.5602, Validation Loss: 0.5540, Val Accuracy: 0.8666, Precision: 0.5000, Recall: 0.0061, F1: 0.0120, AUC: 0.7708, LR: 0.0001\n",
      "Epoch 9, Train Loss: 0.5516, Validation Loss: 0.5455, Val Accuracy: 0.8682, Precision: 1.0000, Recall: 0.0122, F1: 0.0241, AUC: 0.7997, LR: 0.0001\n",
      "Epoch 10, Train Loss: 0.5429, Validation Loss: 0.5369, Val Accuracy: 0.8690, Precision: 1.0000, Recall: 0.0183, F1: 0.0359, AUC: 0.8220, LR: 0.0001\n",
      "Epoch 11, Train Loss: 0.5340, Validation Loss: 0.5281, Val Accuracy: 0.8690, Precision: 1.0000, Recall: 0.0183, F1: 0.0359, AUC: 0.8396, LR: 0.0001\n",
      "Epoch 12, Train Loss: 0.5250, Validation Loss: 0.5192, Val Accuracy: 0.8698, Precision: 1.0000, Recall: 0.0244, F1: 0.0476, AUC: 0.8534, LR: 0.0001\n",
      "Epoch 13, Train Loss: 0.5159, Validation Loss: 0.5101, Val Accuracy: 0.8723, Precision: 1.0000, Recall: 0.0427, F1: 0.0819, AUC: 0.8643, LR: 0.0001\n",
      "Epoch 14, Train Loss: 0.5066, Validation Loss: 0.5009, Val Accuracy: 0.8731, Precision: 1.0000, Recall: 0.0488, F1: 0.0930, AUC: 0.8731, LR: 0.0001\n",
      "Epoch 15, Train Loss: 0.4972, Validation Loss: 0.4916, Val Accuracy: 0.8739, Precision: 0.9091, Recall: 0.0610, F1: 0.1143, AUC: 0.8801, LR: 0.0001\n",
      "Epoch 16, Train Loss: 0.4876, Validation Loss: 0.4822, Val Accuracy: 0.8771, Precision: 0.9333, Recall: 0.0854, F1: 0.1564, AUC: 0.8857, LR: 0.0001\n",
      "Epoch 17, Train Loss: 0.4779, Validation Loss: 0.4727, Val Accuracy: 0.8788, Precision: 0.9412, Recall: 0.0976, F1: 0.1768, AUC: 0.8904, LR: 0.0001\n",
      "Epoch 18, Train Loss: 0.4680, Validation Loss: 0.4630, Val Accuracy: 0.8796, Precision: 0.9444, Recall: 0.1037, F1: 0.1868, AUC: 0.8942, LR: 0.0001\n",
      "Epoch 19, Train Loss: 0.4581, Validation Loss: 0.4532, Val Accuracy: 0.8796, Precision: 0.9444, Recall: 0.1037, F1: 0.1868, AUC: 0.8977, LR: 0.0001\n",
      "Epoch 20, Train Loss: 0.4481, Validation Loss: 0.4434, Val Accuracy: 0.8804, Precision: 0.9474, Recall: 0.1098, F1: 0.1967, AUC: 0.9009, LR: 0.0001\n",
      "Epoch 21, Train Loss: 0.4379, Validation Loss: 0.4335, Val Accuracy: 0.8820, Precision: 0.9524, Recall: 0.1220, F1: 0.2162, AUC: 0.9040, LR: 0.0001\n",
      "Epoch 22, Train Loss: 0.4278, Validation Loss: 0.4235, Val Accuracy: 0.8828, Precision: 0.9545, Recall: 0.1280, F1: 0.2258, AUC: 0.9069, LR: 0.0001\n",
      "Epoch 23, Train Loss: 0.4176, Validation Loss: 0.4136, Val Accuracy: 0.8845, Precision: 1.0000, Recall: 0.1341, F1: 0.2366, AUC: 0.9095, LR: 0.0001\n",
      "Epoch 24, Train Loss: 0.4073, Validation Loss: 0.4036, Val Accuracy: 0.8861, Precision: 1.0000, Recall: 0.1463, F1: 0.2553, AUC: 0.9119, LR: 0.0001\n",
      "Epoch 25, Train Loss: 0.3971, Validation Loss: 0.3936, Val Accuracy: 0.8869, Precision: 1.0000, Recall: 0.1524, F1: 0.2646, AUC: 0.9145, LR: 0.0001\n",
      "Epoch 26, Train Loss: 0.3870, Validation Loss: 0.3837, Val Accuracy: 0.8869, Precision: 1.0000, Recall: 0.1524, F1: 0.2646, AUC: 0.9170, LR: 0.0001\n",
      "Epoch 27, Train Loss: 0.3769, Validation Loss: 0.3739, Val Accuracy: 0.8893, Precision: 0.9667, Recall: 0.1768, F1: 0.2990, AUC: 0.9194, LR: 0.0001\n",
      "Epoch 28, Train Loss: 0.3669, Validation Loss: 0.3642, Val Accuracy: 0.8902, Precision: 0.9677, Recall: 0.1829, F1: 0.3077, AUC: 0.9218, LR: 0.0001\n",
      "Epoch 29, Train Loss: 0.3571, Validation Loss: 0.3545, Val Accuracy: 0.8918, Precision: 0.9697, Recall: 0.1951, F1: 0.3249, AUC: 0.9242, LR: 0.0001\n",
      "Epoch 30, Train Loss: 0.3474, Validation Loss: 0.3451, Val Accuracy: 0.8934, Precision: 0.9714, Recall: 0.2073, F1: 0.3417, AUC: 0.9265, LR: 0.0001\n",
      "Epoch 31, Train Loss: 0.3378, Validation Loss: 0.3358, Val Accuracy: 0.8967, Precision: 0.9744, Recall: 0.2317, F1: 0.3744, AUC: 0.9289, LR: 0.0001\n",
      "Epoch 32, Train Loss: 0.3284, Validation Loss: 0.3266, Val Accuracy: 0.8975, Precision: 0.9750, Recall: 0.2378, F1: 0.3824, AUC: 0.9314, LR: 0.0001\n",
      "Epoch 33, Train Loss: 0.3192, Validation Loss: 0.3177, Val Accuracy: 0.9024, Precision: 0.9783, Recall: 0.2744, F1: 0.4286, AUC: 0.9337, LR: 0.0001\n",
      "Epoch 34, Train Loss: 0.3102, Validation Loss: 0.3089, Val Accuracy: 0.9089, Precision: 0.9815, Recall: 0.3232, F1: 0.4862, AUC: 0.9362, LR: 0.0001\n",
      "Epoch 35, Train Loss: 0.3014, Validation Loss: 0.3003, Val Accuracy: 0.9081, Precision: 0.9636, Recall: 0.3232, F1: 0.4840, AUC: 0.9387, LR: 0.0001\n",
      "Epoch 36, Train Loss: 0.2928, Validation Loss: 0.2919, Val Accuracy: 0.9113, Precision: 0.9661, Recall: 0.3476, F1: 0.5112, AUC: 0.9410, LR: 0.0001\n",
      "Epoch 37, Train Loss: 0.2844, Validation Loss: 0.2837, Val Accuracy: 0.9129, Precision: 0.9672, Recall: 0.3598, F1: 0.5244, AUC: 0.9431, LR: 0.0001\n",
      "Epoch 38, Train Loss: 0.2762, Validation Loss: 0.2757, Val Accuracy: 0.9146, Precision: 0.9403, Recall: 0.3841, F1: 0.5455, AUC: 0.9458, LR: 0.0001\n",
      "Epoch 39, Train Loss: 0.2682, Validation Loss: 0.2678, Val Accuracy: 0.9170, Precision: 0.9429, Recall: 0.4024, F1: 0.5641, AUC: 0.9484, LR: 0.0001\n",
      "Epoch 40, Train Loss: 0.2604, Validation Loss: 0.2602, Val Accuracy: 0.9170, Precision: 0.9079, Recall: 0.4207, F1: 0.5750, AUC: 0.9509, LR: 0.0001\n",
      "Epoch 41, Train Loss: 0.2528, Validation Loss: 0.2527, Val Accuracy: 0.9211, Precision: 0.9136, Recall: 0.4512, F1: 0.6041, AUC: 0.9536, LR: 0.0001\n",
      "Epoch 42, Train Loss: 0.2454, Validation Loss: 0.2454, Val Accuracy: 0.9227, Precision: 0.9059, Recall: 0.4695, F1: 0.6185, AUC: 0.9561, LR: 0.0001\n",
      "Epoch 43, Train Loss: 0.2381, Validation Loss: 0.2382, Val Accuracy: 0.9243, Precision: 0.8989, Recall: 0.4878, F1: 0.6324, AUC: 0.9586, LR: 0.0001\n",
      "Epoch 44, Train Loss: 0.2311, Validation Loss: 0.2313, Val Accuracy: 0.9268, Precision: 0.9022, Recall: 0.5061, F1: 0.6484, AUC: 0.9610, LR: 0.0001\n",
      "Epoch 45, Train Loss: 0.2242, Validation Loss: 0.2245, Val Accuracy: 0.9284, Precision: 0.8878, Recall: 0.5305, F1: 0.6641, AUC: 0.9634, LR: 0.0001\n",
      "Epoch 46, Train Loss: 0.2175, Validation Loss: 0.2180, Val Accuracy: 0.9317, Precision: 0.8922, Recall: 0.5549, F1: 0.6842, AUC: 0.9658, LR: 0.0001\n",
      "Epoch 47, Train Loss: 0.2109, Validation Loss: 0.2117, Val Accuracy: 0.9341, Precision: 0.8807, Recall: 0.5854, F1: 0.7033, AUC: 0.9678, LR: 0.0001\n",
      "Epoch 48, Train Loss: 0.2046, Validation Loss: 0.2056, Val Accuracy: 0.9373, Precision: 0.8850, Recall: 0.6098, F1: 0.7220, AUC: 0.9698, LR: 0.0001\n",
      "Epoch 49, Train Loss: 0.1984, Validation Loss: 0.1996, Val Accuracy: 0.9365, Precision: 0.8644, Recall: 0.6220, F1: 0.7234, AUC: 0.9715, LR: 0.0001\n",
      "Epoch 50, Train Loss: 0.1924, Validation Loss: 0.1939, Val Accuracy: 0.9382, Precision: 0.8667, Recall: 0.6341, F1: 0.7324, AUC: 0.9732, LR: 0.0001\n",
      "Epoch 51, Train Loss: 0.1866, Validation Loss: 0.1884, Val Accuracy: 0.9439, Precision: 0.8740, Recall: 0.6768, F1: 0.7629, AUC: 0.9749, LR: 0.0001\n",
      "Epoch 52, Train Loss: 0.1810, Validation Loss: 0.1832, Val Accuracy: 0.9455, Precision: 0.8760, Recall: 0.6890, F1: 0.7713, AUC: 0.9763, LR: 0.0001\n",
      "Epoch 53, Train Loss: 0.1756, Validation Loss: 0.1781, Val Accuracy: 0.9487, Precision: 0.8797, Recall: 0.7134, F1: 0.7879, AUC: 0.9775, LR: 0.0001\n",
      "Epoch 54, Train Loss: 0.1704, Validation Loss: 0.1733, Val Accuracy: 0.9520, Precision: 0.8832, Recall: 0.7378, F1: 0.8040, AUC: 0.9785, LR: 0.0001\n",
      "Epoch 55, Train Loss: 0.1654, Validation Loss: 0.1687, Val Accuracy: 0.9561, Precision: 0.8873, Recall: 0.7683, F1: 0.8235, AUC: 0.9795, LR: 0.0001\n",
      "Epoch 56, Train Loss: 0.1606, Validation Loss: 0.1643, Val Accuracy: 0.9577, Precision: 0.8889, Recall: 0.7805, F1: 0.8312, AUC: 0.9804, LR: 0.0001\n",
      "Epoch 57, Train Loss: 0.1560, Validation Loss: 0.1601, Val Accuracy: 0.9585, Precision: 0.8897, Recall: 0.7866, F1: 0.8350, AUC: 0.9812, LR: 0.0001\n",
      "Epoch 58, Train Loss: 0.1516, Validation Loss: 0.1561, Val Accuracy: 0.9585, Precision: 0.8897, Recall: 0.7866, F1: 0.8350, AUC: 0.9819, LR: 0.0001\n",
      "Epoch 59, Train Loss: 0.1474, Validation Loss: 0.1523, Val Accuracy: 0.9618, Precision: 0.8874, Recall: 0.8171, F1: 0.8508, AUC: 0.9827, LR: 0.0001\n",
      "Epoch 60, Train Loss: 0.1434, Validation Loss: 0.1486, Val Accuracy: 0.9618, Precision: 0.8874, Recall: 0.8171, F1: 0.8508, AUC: 0.9832, LR: 0.0001\n",
      "Epoch 61, Train Loss: 0.1395, Validation Loss: 0.1450, Val Accuracy: 0.9618, Precision: 0.8679, Recall: 0.8415, F1: 0.8545, AUC: 0.9839, LR: 0.0001\n",
      "Epoch 62, Train Loss: 0.1358, Validation Loss: 0.1416, Val Accuracy: 0.9609, Precision: 0.8625, Recall: 0.8415, F1: 0.8519, AUC: 0.9844, LR: 0.0001\n",
      "Epoch 63, Train Loss: 0.1322, Validation Loss: 0.1384, Val Accuracy: 0.9609, Precision: 0.8580, Recall: 0.8476, F1: 0.8528, AUC: 0.9849, LR: 0.0001\n",
      "Epoch 64, Train Loss: 0.1287, Validation Loss: 0.1352, Val Accuracy: 0.9618, Precision: 0.8589, Recall: 0.8537, F1: 0.8563, AUC: 0.9855, LR: 0.0001\n",
      "Epoch 65, Train Loss: 0.1254, Validation Loss: 0.1322, Val Accuracy: 0.9626, Precision: 0.8598, Recall: 0.8598, F1: 0.8598, AUC: 0.9859, LR: 0.0001\n",
      "Epoch 66, Train Loss: 0.1223, Validation Loss: 0.1292, Val Accuracy: 0.9634, Precision: 0.8606, Recall: 0.8659, F1: 0.8632, AUC: 0.9863, LR: 0.0001\n",
      "Epoch 67, Train Loss: 0.1192, Validation Loss: 0.1264, Val Accuracy: 0.9642, Precision: 0.8614, Recall: 0.8720, F1: 0.8667, AUC: 0.9867, LR: 0.0001\n",
      "Epoch 68, Train Loss: 0.1162, Validation Loss: 0.1236, Val Accuracy: 0.9658, Precision: 0.8631, Recall: 0.8841, F1: 0.8735, AUC: 0.9872, LR: 0.0001\n",
      "Epoch 69, Train Loss: 0.1134, Validation Loss: 0.1209, Val Accuracy: 0.9658, Precision: 0.8631, Recall: 0.8841, F1: 0.8735, AUC: 0.9876, LR: 0.0001\n",
      "Epoch 70, Train Loss: 0.1106, Validation Loss: 0.1183, Val Accuracy: 0.9666, Precision: 0.8639, Recall: 0.8902, F1: 0.8769, AUC: 0.9880, LR: 0.0001\n",
      "Epoch 71, Train Loss: 0.1079, Validation Loss: 0.1158, Val Accuracy: 0.9675, Precision: 0.8647, Recall: 0.8963, F1: 0.8802, AUC: 0.9884, LR: 0.0001\n",
      "Epoch 72, Train Loss: 0.1054, Validation Loss: 0.1133, Val Accuracy: 0.9675, Precision: 0.8647, Recall: 0.8963, F1: 0.8802, AUC: 0.9888, LR: 0.0001\n",
      "Epoch 73, Train Loss: 0.1029, Validation Loss: 0.1109, Val Accuracy: 0.9675, Precision: 0.8647, Recall: 0.8963, F1: 0.8802, AUC: 0.9891, LR: 0.0001\n",
      "Epoch 74, Train Loss: 0.1005, Validation Loss: 0.1086, Val Accuracy: 0.9683, Precision: 0.8698, Recall: 0.8963, F1: 0.8829, AUC: 0.9893, LR: 0.0001\n",
      "Epoch 75, Train Loss: 0.0982, Validation Loss: 0.1064, Val Accuracy: 0.9683, Precision: 0.8698, Recall: 0.8963, F1: 0.8829, AUC: 0.9896, LR: 0.0001\n",
      "Epoch 76, Train Loss: 0.0960, Validation Loss: 0.1043, Val Accuracy: 0.9707, Precision: 0.8810, Recall: 0.9024, F1: 0.8916, AUC: 0.9899, LR: 0.0001\n",
      "Epoch 77, Train Loss: 0.0938, Validation Loss: 0.1022, Val Accuracy: 0.9723, Precision: 0.8916, Recall: 0.9024, F1: 0.8970, AUC: 0.9901, LR: 0.0001\n",
      "Epoch 78, Train Loss: 0.0918, Validation Loss: 0.1003, Val Accuracy: 0.9723, Precision: 0.8916, Recall: 0.9024, F1: 0.8970, AUC: 0.9904, LR: 0.0001\n",
      "Epoch 79, Train Loss: 0.0898, Validation Loss: 0.0983, Val Accuracy: 0.9731, Precision: 0.8970, Recall: 0.9024, F1: 0.8997, AUC: 0.9907, LR: 0.0001\n",
      "Epoch 80, Train Loss: 0.0879, Validation Loss: 0.0965, Val Accuracy: 0.9740, Precision: 0.8976, Recall: 0.9085, F1: 0.9030, AUC: 0.9909, LR: 0.0001\n",
      "Epoch 81, Train Loss: 0.0860, Validation Loss: 0.0947, Val Accuracy: 0.9740, Precision: 0.8976, Recall: 0.9085, F1: 0.9030, AUC: 0.9912, LR: 0.0001\n",
      "Epoch 82, Train Loss: 0.0843, Validation Loss: 0.0930, Val Accuracy: 0.9740, Precision: 0.8976, Recall: 0.9085, F1: 0.9030, AUC: 0.9915, LR: 0.0001\n",
      "Epoch 83, Train Loss: 0.0826, Validation Loss: 0.0913, Val Accuracy: 0.9772, Precision: 0.9146, Recall: 0.9146, F1: 0.9146, AUC: 0.9917, LR: 0.0001\n",
      "Epoch 84, Train Loss: 0.0809, Validation Loss: 0.0897, Val Accuracy: 0.9772, Precision: 0.9146, Recall: 0.9146, F1: 0.9146, AUC: 0.9920, LR: 0.0001\n",
      "Epoch 85, Train Loss: 0.0793, Validation Loss: 0.0882, Val Accuracy: 0.9780, Precision: 0.9152, Recall: 0.9207, F1: 0.9179, AUC: 0.9922, LR: 0.0001\n",
      "Epoch 86, Train Loss: 0.0778, Validation Loss: 0.0867, Val Accuracy: 0.9788, Precision: 0.9207, Recall: 0.9207, F1: 0.9207, AUC: 0.9925, LR: 0.0001\n",
      "Epoch 87, Train Loss: 0.0763, Validation Loss: 0.0853, Val Accuracy: 0.9788, Precision: 0.9207, Recall: 0.9207, F1: 0.9207, AUC: 0.9926, LR: 0.0001\n",
      "Epoch 88, Train Loss: 0.0748, Validation Loss: 0.0839, Val Accuracy: 0.9788, Precision: 0.9207, Recall: 0.9207, F1: 0.9207, AUC: 0.9928, LR: 0.0001\n",
      "Epoch 89, Train Loss: 0.0734, Validation Loss: 0.0826, Val Accuracy: 0.9797, Precision: 0.9264, Recall: 0.9207, F1: 0.9235, AUC: 0.9930, LR: 0.0001\n",
      "Epoch 90, Train Loss: 0.0721, Validation Loss: 0.0813, Val Accuracy: 0.9797, Precision: 0.9264, Recall: 0.9207, F1: 0.9235, AUC: 0.9932, LR: 0.0001\n",
      "Epoch 91, Train Loss: 0.0708, Validation Loss: 0.0801, Val Accuracy: 0.9797, Precision: 0.9264, Recall: 0.9207, F1: 0.9235, AUC: 0.9934, LR: 0.0001\n",
      "Epoch 92, Train Loss: 0.0695, Validation Loss: 0.0789, Val Accuracy: 0.9797, Precision: 0.9264, Recall: 0.9207, F1: 0.9235, AUC: 0.9936, LR: 0.0001\n",
      "Epoch 93, Train Loss: 0.0683, Validation Loss: 0.0777, Val Accuracy: 0.9797, Precision: 0.9264, Recall: 0.9207, F1: 0.9235, AUC: 0.9938, LR: 0.0001\n",
      "Epoch 94, Train Loss: 0.0671, Validation Loss: 0.0766, Val Accuracy: 0.9797, Precision: 0.9264, Recall: 0.9207, F1: 0.9235, AUC: 0.9940, LR: 0.0001\n",
      "Epoch 95, Train Loss: 0.0660, Validation Loss: 0.0755, Val Accuracy: 0.9797, Precision: 0.9264, Recall: 0.9207, F1: 0.9235, AUC: 0.9941, LR: 0.0001\n",
      "Epoch 96, Train Loss: 0.0649, Validation Loss: 0.0745, Val Accuracy: 0.9797, Precision: 0.9264, Recall: 0.9207, F1: 0.9235, AUC: 0.9942, LR: 0.0001\n",
      "Epoch 97, Train Loss: 0.0638, Validation Loss: 0.0734, Val Accuracy: 0.9805, Precision: 0.9268, Recall: 0.9268, F1: 0.9268, AUC: 0.9943, LR: 0.0001\n",
      "Epoch 98, Train Loss: 0.0627, Validation Loss: 0.0725, Val Accuracy: 0.9805, Precision: 0.9268, Recall: 0.9268, F1: 0.9268, AUC: 0.9945, LR: 0.0001\n",
      "Epoch 99, Train Loss: 0.0617, Validation Loss: 0.0715, Val Accuracy: 0.9805, Precision: 0.9268, Recall: 0.9268, F1: 0.9268, AUC: 0.9946, LR: 0.0001\n",
      "Epoch 100, Train Loss: 0.0607, Validation Loss: 0.0706, Val Accuracy: 0.9805, Precision: 0.9268, Recall: 0.9268, F1: 0.9268, AUC: 0.9947, LR: 0.0001\n"
     ]
    }
   ],
   "source": [
    "# Modify the training loop to include metric calculation and visualization\n",
    "train_losses = []\n",
    "val_losses = []\n",
    "val_accuracies = []\n",
    "\n",
    "# Training loop\n",
    "epochs = 100\n",
    "for epoch in range(epochs):\n",
    "    # Training step\n",
    "    train_loss, train_preds = train(x_dict, edge_index_dict, train_edges_tp_s, train_labels_tp_s)\n",
    "    # Validation step\n",
    "    val_loss, val_preds = validate()\n",
    "\n",
    "    # Store losses\n",
    "    train_losses.append(train_loss)\n",
    "    val_losses.append(val_loss)\n",
    "\n",
    "    # Calculate validation metrics\n",
    "    accuracy, precision, recall, f1, auc = calculate_metrics(val_labels_tp_s, val_preds)\n",
    "    val_accuracies.append(accuracy)\n",
    "\n",
    "    # Print metrics\n",
    "    print(f\"Epoch {epoch+1}, Train Loss: {train_loss:.4f}, Validation Loss: {val_loss:.4f}, \"\n",
    "          f\"Val Accuracy: {accuracy:.4f}, Precision: {precision:.4f}, Recall: {recall:.4f}, \"\n",
    "          f\"F1: {f1:.4f}, AUC: {auc:.4f}, LR: {scheduler.get_last_lr()[0]}\")\n",
    "\n",
    "    # Step the LR scheduler\n",
    "    scheduler.step(val_loss)\n",
    "\n",
    "    # Check for early stopping\n",
    "    if val_loss < best_val_loss:\n",
    "        best_val_loss = val_loss\n",
    "        epochs_without_improvement = 0\n",
    "        torch.save(model.state_dict(), '/data/servilla/DT_HGNN/data/Models_saves/best_model.pth')  # Save the best model\n",
    "    else:\n",
    "        epochs_without_improvement += 1\n",
    "    \n",
    "    if epochs_without_improvement >= patience:\n",
    "        print(f\"Early stopping at epoch {epoch+1}\")\n",
    "        break\n",
    "\n"
   ]
  },
  {
   "cell_type": "code",
   "execution_count": 49,
   "metadata": {},
   "outputs": [],
   "source": [
    "# Load node datasets\n",
    "s_df = pd.read_csv('/data/servilla/DT_HGNN/Model/Nodes/s_emb_full_183.csv', index_col=0) # Substrates\n",
    "p_df = pd.read_csv('/data/servilla/DT_HGNN/Model/Nodes/p_emb_full_237197.csv', index_col=0) # Proteins"
   ]
  },
  {
   "cell_type": "code",
   "execution_count": 50,
   "metadata": {},
   "outputs": [],
   "source": [
    "# Load edge datasets (combined with negative samples)\n",
    "ppi_df = pd.read_csv('/data/servilla/DT_HGNN/Model/Edges/combined_ppi_edges_full.csv') # Protein-Protein Interactions\n",
    "ssi_df = pd.read_csv('/data/servilla/DT_HGNN/Model/Edges/combined_ssi_edges_full.csv') # Substrate-Substrate Interactions\n",
    "tp_s_df = pd.read_csv('/data/servilla/DT_HGNN/Model/Edges/combined_tp_s_edges_full.csv',) # Transporter Protein-Substrate Interactions"
   ]
  },
  {
   "cell_type": "code",
   "execution_count": 51,
   "metadata": {},
   "outputs": [
    {
     "name": "stdout",
     "output_type": "stream",
     "text": [
      "Non-numeric columns: Index([], dtype='object')\n",
      "Non-numeric columns: Index([], dtype='object')\n"
     ]
    }
   ],
   "source": [
    "s_df = inspect_and_clean(s_df)\n",
    "p_df = inspect_and_clean(p_df)\n"
   ]
  },
  {
   "cell_type": "code",
   "execution_count": 52,
   "metadata": {},
   "outputs": [],
   "source": [
    "protein_mapping, substrate_mapping = get_mapping(p_df, s_df)"
   ]
  },
  {
   "cell_type": "code",
   "execution_count": 53,
   "metadata": {},
   "outputs": [],
   "source": [
    "# Apply the debugging function to map edges\n",
    "mapped_ppi_edges_df = map_edges(ppi_df, protein_mapping, protein_mapping, 'PPI')\n",
    "mapped_ssi_edges_df = map_edges(ssi_df, substrate_mapping, substrate_mapping, 'SSI')\n",
    "mapped_tp_s_df = map_edges(test_tp_s_df, protein_mapping, substrate_mapping, 'TP-S')"
   ]
  },
  {
   "cell_type": "code",
   "execution_count": 54,
   "metadata": {},
   "outputs": [
    {
     "name": "stdout",
     "output_type": "stream",
     "text": [
      "          source  target  label\n",
      "0         157025  225772      1\n",
      "1         187416  234940      1\n",
      "2         234940  187416      1\n",
      "3         225772  100854      1\n",
      "4         225772  157025      1\n",
      "...          ...     ...    ...\n",
      "13327041  106801   24539      0\n",
      "13327042  106199  133771      0\n",
      "13327043   98851   90276      0\n",
      "13327044  191132   11958      0\n",
      "13327045  229284  226859      0\n",
      "\n",
      "[13327046 rows x 3 columns]\n",
      "      source  target  label\n",
      "0         89      17      1\n",
      "1         17      89      1\n",
      "2         99      78      1\n",
      "3         78      99      1\n",
      "4         19     129      1\n",
      "...      ...     ...    ...\n",
      "4349      71      33      0\n",
      "4350      92      97      0\n",
      "4351     140     145      0\n",
      "4352      24     153      0\n",
      "4353      86      81      0\n",
      "\n",
      "[4354 rows x 3 columns]\n",
      "       source  target  label\n",
      "9512   118409       0      1\n",
      "13826  225552      58      0\n",
      "21079   34085      26      0\n",
      "3806    76108      63      1\n",
      "14239   41433       3      0\n",
      "25525  123065      91      0\n",
      "4148   202842      63      1\n",
      "640    155343      54      1\n",
      "18903   75069     147      0\n",
      "13586  187195      66      0\n",
      "18705  117104     135      0\n",
      "9731    74443      63      1\n",
      "18067    7682     163      0\n",
      "423    113863       0      1\n",
      "17467  212492     121      0\n",
      "18898   24488       7      0\n",
      "9022   101756      97      1\n",
      "23220   21076      34      0\n",
      "23875  212251     161      0\n",
      "2171    64297      37      1\n",
      "24619  233894     162      0\n",
      "19239  140828      59      0\n",
      "22962  201738      67      0\n",
      "18721  178416     132      0\n",
      "14753   40815     133      0\n",
      "9213     3823      37      1\n",
      "16146  166831     165      0\n",
      "20299  129058     117      0\n",
      "12475  204085       0      1\n",
      "12428   17189       0      1\n",
      "17203   45838     147      0\n",
      "24390  137683     160      0\n",
      "13572   28949      65      0\n",
      "6024    19538       0      1\n",
      "11378   53264      19      1\n",
      "4393   106286      65      1\n",
      "12692  103332     100      1\n",
      "9109    86196      63      1\n",
      "21734   34726     131      0\n",
      "16539  146105      23      0\n",
      "4501    77677      65      1\n",
      "12077  149839       0      1\n",
      "21060   95123      16      0\n",
      "20005  143180     101      0\n",
      "16334  147741      18      0\n",
      "5394   118807      63      1\n",
      "15002   58018     141      0\n",
      "6741   111692      63      1\n",
      "21604  106751      94      0\n",
      "21741  179165     111      0\n"
     ]
    }
   ],
   "source": [
    "print(mapped_ppi_edges_df)\n",
    "print(mapped_ssi_edges_df)\n",
    "print(mapped_tp_s_df)"
   ]
  },
  {
   "cell_type": "code",
   "execution_count": 55,
   "metadata": {},
   "outputs": [],
   "source": [
    "# Convert features to numpy arrays\n",
    "s_features = s_df.values\n",
    "p_features = p_df.values"
   ]
  },
  {
   "cell_type": "code",
   "execution_count": 56,
   "metadata": {},
   "outputs": [
    {
     "name": "stdout",
     "output_type": "stream",
     "text": [
      "s_features shape: (183, 1536)\n",
      "p_features shape: (237197, 2048)\n"
     ]
    }
   ],
   "source": [
    "# Check shapes to ensure correct dimensions\n",
    "print(f\"s_features shape: {s_features.shape}\")  # Expected (?, 1536)\n",
    "print(f\"p_features shape: {p_features.shape}\")  # Expected (?, 2048)\n"
   ]
  },
  {
   "cell_type": "code",
   "execution_count": 57,
   "metadata": {},
   "outputs": [],
   "source": [
    "# Define the transformation layers, changes the number of features 1536 -> 2048\n",
    "# for substrates and 2048 -> 2048 for proteins. The transform_p layer is useful \n",
    "# for transforming the feature representation within the same dimensional space,\n",
    "#  y = Wx + b.\n",
    "\n",
    "transform_s = Linear(1536, 2048).to(device) # Change depending on the number of features\n",
    "transform_p = Linear(2048, 2048).to(device)"
   ]
  },
  {
   "cell_type": "code",
   "execution_count": 58,
   "metadata": {},
   "outputs": [
    {
     "name": "stdout",
     "output_type": "stream",
     "text": [
      "Number of samples: 183\n",
      "Number of samples: 237197\n"
     ]
    }
   ],
   "source": [
    "# Perform the transformations in batches\n",
    "s_features_transformed = transform_in_batches(s_features, transform_s)\n",
    "p_features_transformed = transform_in_batches(p_features, transform_p)\n"
   ]
  },
  {
   "cell_type": "code",
   "execution_count": 59,
   "metadata": {},
   "outputs": [
    {
     "name": "stdout",
     "output_type": "stream",
     "text": [
      "s_features_transformed shape: (183, 2048)\n",
      "p_features_transformed shape: (237197, 2048)\n"
     ]
    }
   ],
   "source": [
    "# Check shapes to ensure correct dimensions\n",
    "print(f\"s_features_transformed shape: {s_features_transformed.shape}\")  # Expected (?, 2048)\n",
    "print(f\"p_features_transformed shape: {p_features_transformed.shape}\")  # Expected (?, 2048)\n"
   ]
  },
  {
   "cell_type": "code",
   "execution_count": 60,
   "metadata": {},
   "outputs": [],
   "source": [
    "# Convert back to tensors\n",
    "s_features_tensor = torch.tensor(s_features_transformed, dtype=torch.float).to(device)\n",
    "p_features_tensor = torch.tensor(p_features_transformed, dtype=torch.float).to(device)\n"
   ]
  },
  {
   "cell_type": "code",
   "execution_count": 61,
   "metadata": {},
   "outputs": [],
   "source": [
    "# Combine features, vertically stacks features (dim=0) to create a single tensor\n",
    "all_features = torch.cat([p_features_tensor, s_features_tensor], dim=0)\n"
   ]
  },
  {
   "cell_type": "code",
   "execution_count": 62,
   "metadata": {},
   "outputs": [
    {
     "name": "stdout",
     "output_type": "stream",
     "text": [
      "all_features shape: torch.Size([237380, 2048])\n"
     ]
    }
   ],
   "source": [
    "print(f\"all_features shape: {all_features.shape}\")  # Expected (?, 2048)"
   ]
  },
  {
   "cell_type": "code",
   "execution_count": 63,
   "metadata": {},
   "outputs": [
    {
     "name": "stdout",
     "output_type": "stream",
     "text": [
      "          source  target  label\n",
      "0         157025  225772      1\n",
      "1         187416  234940      1\n",
      "2         234940  187416      1\n",
      "3         225772  100854      1\n",
      "4         225772  157025      1\n",
      "...          ...     ...    ...\n",
      "13327041  106801   24539      0\n",
      "13327042  106199  133771      0\n",
      "13327043   98851   90276      0\n",
      "13327044  191132   11958      0\n",
      "13327045  229284  226859      0\n",
      "\n",
      "[13327046 rows x 3 columns]\n",
      "      source  target  label\n",
      "0         89      17      1\n",
      "1         17      89      1\n",
      "2         99      78      1\n",
      "3         78      99      1\n",
      "4         19     129      1\n",
      "...      ...     ...    ...\n",
      "4349      71      33      0\n",
      "4350      92      97      0\n",
      "4351     140     145      0\n",
      "4352      24     153      0\n",
      "4353      86      81      0\n",
      "\n",
      "[4354 rows x 3 columns]\n",
      "       source  target  label\n",
      "9512   118409       0      1\n",
      "13826  225552      58      0\n",
      "21079   34085      26      0\n",
      "3806    76108      63      1\n",
      "14239   41433       3      0\n",
      "25525  123065      91      0\n",
      "4148   202842      63      1\n",
      "640    155343      54      1\n",
      "18903   75069     147      0\n",
      "13586  187195      66      0\n",
      "18705  117104     135      0\n",
      "9731    74443      63      1\n",
      "18067    7682     163      0\n",
      "423    113863       0      1\n",
      "17467  212492     121      0\n",
      "18898   24488       7      0\n",
      "9022   101756      97      1\n",
      "23220   21076      34      0\n",
      "23875  212251     161      0\n",
      "2171    64297      37      1\n",
      "24619  233894     162      0\n",
      "19239  140828      59      0\n",
      "22962  201738      67      0\n",
      "18721  178416     132      0\n",
      "14753   40815     133      0\n",
      "9213     3823      37      1\n",
      "16146  166831     165      0\n",
      "20299  129058     117      0\n",
      "12475  204085       0      1\n",
      "12428   17189       0      1\n",
      "17203   45838     147      0\n",
      "24390  137683     160      0\n",
      "13572   28949      65      0\n",
      "6024    19538       0      1\n",
      "11378   53264      19      1\n",
      "4393   106286      65      1\n",
      "12692  103332     100      1\n",
      "9109    86196      63      1\n",
      "21734   34726     131      0\n",
      "16539  146105      23      0\n",
      "4501    77677      65      1\n",
      "12077  149839       0      1\n",
      "21060   95123      16      0\n",
      "20005  143180     101      0\n",
      "16334  147741      18      0\n",
      "5394   118807      63      1\n",
      "15002   58018     141      0\n",
      "6741   111692      63      1\n",
      "21604  106751      94      0\n",
      "21741  179165     111      0\n"
     ]
    }
   ],
   "source": [
    "print(mapped_ppi_edges_df)\n",
    "print(mapped_ssi_edges_df)\n",
    "print(mapped_tp_s_df)"
   ]
  },
  {
   "cell_type": "code",
   "execution_count": 64,
   "metadata": {},
   "outputs": [],
   "source": [
    "# Create edge index tensors for test\n",
    "test_edges_tp_s = torch.tensor(mapped_tp_s_df[['source', 'target']].values.T, dtype=torch.long)\n",
    "test_labels_tp_s = torch.tensor(test_tp_s_df['label'].values, dtype=torch.float)"
   ]
  },
  {
   "cell_type": "code",
   "execution_count": 65,
   "metadata": {},
   "outputs": [
    {
     "name": "stdout",
     "output_type": "stream",
     "text": [
      "p_df: (237197, 2048)\n",
      "p_train_df: (237147, 2048)\n",
      "p_test_df: (50, 2048)\n",
      "s_df: (183, 1536)\n",
      "s_train_df: (147, 1536)\n",
      "s_test_df: (36, 1536)\n",
      "tp_s_df: (26680, 3)\n",
      "test_tp_s_df: (50, 3)\n",
      "train_tp_s_df: (12288, 3)\n",
      "ppi_df: (13327046, 3)\n",
      "ppi_filtered_df: (13322673, 3)\n",
      "ssi_df: (4354, 3)\n",
      "ssi_filtered_df: (2434, 3)\n",
      "Training TP-S edges: torch.Size([2, 11059])\n",
      "Validation TP-S edges: torch.Size([2, 1229])\n",
      "Training PPI edges: torch.Size([2, 11990405])\n",
      "Validation PPI edges: torch.Size([2, 1332268])\n",
      "Training SSI edges: torch.Size([2, 2190])\n",
      "Validation SSI edges: torch.Size([2, 244])\n"
     ]
    }
   ],
   "source": [
    "print(f\"p_df: {p_df.shape}\")\n",
    "print(f\"p_train_df: {p_train_df.shape}\")\n",
    "print(f\"p_test_df: {p_test_df.shape}\")\n",
    "print(f\"s_df: {s_df.shape}\")\n",
    "print(f\"s_train_df: {s_train_df.shape}\")\n",
    "print(f\"s_test_df: {s_test_df.shape}\")\n",
    "print(f\"tp_s_df: {tp_s_df.shape}\")\n",
    "print(f\"test_tp_s_df: {test_tp_s_df.shape}\")\n",
    "print(f\"train_tp_s_df: {train_tp_s_df.shape}\")\n",
    "print(f\"ppi_df: {ppi_df.shape}\")\n",
    "print(f\"ppi_filtered_df: {ppi_filtered_df.shape}\")\n",
    "print(f\"ssi_df: {ssi_df.shape}\")\n",
    "print(f\"ssi_filtered_df: {ssi_filtered_df.shape}\")\n",
    "print(f\"Training TP-S edges: {train_edges_tp_s.shape}\")\n",
    "print(f\"Validation TP-S edges: {val_edges_tp_s.shape}\")\n",
    "print(f\"Training PPI edges: {train_edges_ppi.shape}\")\n",
    "print(f\"Validation PPI edges: {val_edges_ppi.shape}\")\n",
    "print(f\"Training SSI edges: {train_edges_ssi.shape}\")\n",
    "print(f\"Validation SSI edges: {val_edges_ssi.shape}\")\n",
    "\n"
   ]
  },
  {
   "cell_type": "code",
   "execution_count": 66,
   "metadata": {},
   "outputs": [
    {
     "data": {
      "text/plain": [
       "<All keys matched successfully>"
      ]
     },
     "execution_count": 66,
     "metadata": {},
     "output_type": "execute_result"
    }
   ],
   "source": [
    "# Assign node features\n",
    "data['protein'].x = p_features_tensor\n",
    "data['substrate'].x = s_features_tensor\n",
    "\n",
    "# Assign training edges\n",
    "data['protein', 'interacts_with', 'substrate'].edge_index = test_edges_tp_s\n",
    "\n",
    "# Load the best model\n",
    "model.load_state_dict(torch.load('/data/servilla/DT_HGNN/data/Models_saves/best_model.pth'))\n"
   ]
  },
  {
   "cell_type": "code",
   "execution_count": 67,
   "metadata": {},
   "outputs": [
    {
     "name": "stdout",
     "output_type": "stream",
     "text": [
      "Test Loss: 0.6647, Test Accuracy: 0.6000, Test Precision: 0.0000, Test Recall: 0.0000, Test F1: 0.0000, Test AUC: 0.6750\n"
     ]
    },
    {
     "name": "stderr",
     "output_type": "stream",
     "text": [
      "/home/miservilla/miniconda3/envs/MLG/lib/python3.8/site-packages/sklearn/metrics/_classification.py:1471: UndefinedMetricWarning: Precision is ill-defined and being set to 0.0 due to no predicted samples. Use `zero_division` parameter to control this behavior.\n",
      "  _warn_prf(average, modifier, msg_start, len(result))\n"
     ]
    },
    {
     "data": {
      "image/png": "[encoded data removed]",
      "text/plain": [
       "<Figure size 1000x600 with 1 Axes>"
      ]
     },
     "metadata": {},
     "output_type": "display_data"
    },
    {
     "data": {
      "image/png": "[encoded data removed]",
      "text/plain": [
       "<Figure size 600x600 with 2 Axes>"
      ]
     },
     "metadata": {},
     "output_type": "display_data"
    },
    {
     "data": {
      "image/png": "[encoded data removed]",
      "text/plain": [
       "<Figure size 800x600 with 1 Axes>"
      ]
     },
     "metadata": {},
     "output_type": "display_data"
    }
   ],
   "source": [
    "# Load the best model\n",
    "model.load_state_dict(torch.load('/data/servilla/DT_HGNN/data/Models_saves/best_model.pth'))\n",
    "\n",
    "# Test the model\n",
    "with torch.no_grad():\n",
    "    model.eval()  # Set the model to evaluation mode\n",
    "    out = model(data.x_dict, data.edge_index_dict, test_edges_tp_s)  # Get model predictions\n",
    "    test_loss = criterion(out, test_labels_tp_s)\n",
    "    test_accuracy, test_precision, test_recall, test_f1, test_auc = calculate_metrics(test_labels_tp_s, out)\n",
    "\n",
    "# Print test metrics\n",
    "print(f\"Test Loss: {test_loss:.4f}, Test Accuracy: {test_accuracy:.4f}, \"\n",
    "      f\"Test Precision: {test_precision:.4f}, Test Recall: {test_recall:.4f}, \"\n",
    "      f\"Test F1: {test_f1:.4f}, Test AUC: {test_auc:.4f}\")\n",
    "\n",
    "\n",
    "\n",
    "\n",
    "# Plot training and validation losses\n",
    "plt.figure(figsize=(10, 6))\n",
    "plt.plot(train_losses, label='Train Loss')\n",
    "plt.plot(val_losses, label='Validation Loss')\n",
    "plt.xlabel('Epoch')\n",
    "plt.ylabel('Loss')\n",
    "plt.title('Training and Validation Loss')\n",
    "plt.legend()\n",
    "plt.grid(True)\n",
    "plt.savefig('/data/servilla/DT_HGNN/Plots/loss_plot.png')\n",
    "plt.show()\n",
    "\n",
    "from sklearn.metrics import confusion_matrix, roc_curve\n",
    "\n",
    "# Plot Confusion Matrix\n",
    "def plot_confusion_matrix(labels, preds):\n",
    "    preds_binary = (preds > 0.5).astype(int)\n",
    "    cm = confusion_matrix(labels, preds_binary)\n",
    "    plt.figure(figsize=(6, 6))\n",
    "    plt.imshow(cm, cmap='Blues')\n",
    "    plt.title('Confusion Matrix')\n",
    "    plt.colorbar()\n",
    "    plt.xlabel('Predicted')\n",
    "    plt.ylabel('True')\n",
    "    plt.savefig('/data/servilla/DT_HGNN/Plots/confusion_matrix.png')\n",
    "    plt.show()\n",
    "\n",
    "# Plot ROC Curve\n",
    "def plot_roc_curve(labels, preds):\n",
    "    fpr, tpr, _ = roc_curve(labels, preds)\n",
    "    plt.figure(figsize=(8, 6))\n",
    "    plt.plot(fpr, tpr, marker='.')\n",
    "    plt.title('ROC Curve')\n",
    "    plt.xlabel('False Positive Rate')\n",
    "    plt.ylabel('True Positive Rate')\n",
    "    plt.grid(True)\n",
    "    plt.savefig('/data/servilla/DT_HGNN/Plots/roc_curve.png')\n",
    "    plt.show()\n",
    "\n",
    "# After testing, plot confusion matrix and ROC curve\n",
    "plot_confusion_matrix(test_labels_tp_s.cpu().numpy(), torch.sigmoid(out).cpu().numpy())\n",
    "plot_roc_curve(test_labels_tp_s.cpu().numpy(), torch.sigmoid(out).cpu().numpy())\n"
   ]
  }
 ],
 "metadata": {
  "kernelspec": {
   "display_name": "MLG",
   "language": "python",
   "name": "python3"
  },
  "language_info": {
   "codemirror_mode": {
    "name": "ipython",
    "version": 3
   },
   "file_extension": ".py",
   "mimetype": "text/x-python",
   "name": "python",
   "nbconvert_exporter": "python",
   "pygments_lexer": "ipython3",
   "version": "3.8.19"
  }
 },
 "nbformat": 4,
 "nbformat_minor": 2
}
