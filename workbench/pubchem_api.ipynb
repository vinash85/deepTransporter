{
 "cells": [
  {
   "cell_type": "code",
   "execution_count": 6,
   "metadata": {},
   "outputs": [
    {
     "name": "stdout",
     "output_type": "stream",
     "text": [
      "Fetching CID for ChEBI ID: CHEBI:58245\n",
      "Response Status Code: 200\n",
      "Received data: {'IdentifierList': {'CID': [22848660]}}\n",
      "Fetching description for CID: 22848660\n",
      "Response Status Code: 200\n",
      "Response Data: {'InformationList': {'Information': [{'CID': 22848660, 'Title': 'Deoxyadenosine-phosphate'}, {'CID': 22848660, 'Description': \"2'-deoxyadenosine 5'-monophosphate(2-) is a 2'-deoxyribonucleoside 5'-monophosphate(2-) obtained by deprotonation of the phosphate OH groups of 2'-deoxyadenosine 5'-monophosphate (dAMP). It has a role as a human metabolite and a fundamental metabolite. It is a 2'-deoxynucleoside 5'-monophosphate(2-) and a purine 2'-deoxyribonucleoside 5'-phosphate(2-). It is a conjugate base of a 2'-deoxyadenosine 5'-monophosphate.\", 'DescriptionSourceName': 'ChEBI', 'DescriptionURL': 'https://www.ebi.ac.uk/chebi/searchId.do?chebiId=CHEBI:58245'}]}}\n",
      "Description: 2'-deoxyadenosine 5'-monophosphate(2-) is a 2'-deoxyribonucleoside 5'-monophosphate(2-) obtained by deprotonation of the phosphate OH groups of 2'-deoxyadenosine 5'-monophosphate (dAMP). It has a role as a human metabolite and a fundamental metabolite. It is a 2'-deoxynucleoside 5'-monophosphate(2-) and a purine 2'-deoxyribonucleoside 5'-phosphate(2-). It is a conjugate base of a 2'-deoxyadenosine 5'-monophosphate.\n"
     ]
    }
   ],
   "source": [
    "import requests\n",
    "\n",
    "def chebi_to_cid(chebi_id):\n",
    "    print(f\"Fetching CID for ChEBI ID: {chebi_id}\")\n",
    "    url = f\"https://pubchem.ncbi.nlm.nih.gov/rest/pug/compound/name/{chebi_id}/cids/JSON\"\n",
    "    response = requests.get(url)\n",
    "    print(f\"Response Status Code: {response.status_code}\")\n",
    "    \n",
    "    if response.status_code == 200:\n",
    "        data = response.json()\n",
    "        print(\"Received data:\", data)  # Debug print\n",
    "        if 'IdentifierList' in data:\n",
    "            return data['IdentifierList']['CID'][0]\n",
    "        else:\n",
    "            print(\"No CID found for this ChEBI ID.\")\n",
    "            return None\n",
    "    else:\n",
    "        print(f\"Failed to retrieve CID. Status code: {response.status_code}\")\n",
    "        return None\n",
    "\n",
    "def get_pubchem_description(cid):\n",
    "    print(f\"Fetching description for CID: {cid}\")\n",
    "    url = f\"https://pubchem.ncbi.nlm.nih.gov/rest/pug/compound/cid/{cid}/description/JSON\"\n",
    "    response = requests.get(url)\n",
    "    print(f\"Response Status Code: {response.status_code}\")\n",
    "    \n",
    "    if response.status_code == 200:\n",
    "        data = response.json()\n",
    "        print(\"Response Data:\", data)  # Print the entire response for debugging\n",
    "        if 'InformationList' in data:\n",
    "            for info in data['InformationList']['Information']:\n",
    "                if 'Description' in info:\n",
    "                    return info['Description']\n",
    "            print(\"Description key is missing in the response.\")\n",
    "            return None\n",
    "        else:\n",
    "            print(\"InformationList key is missing in the response.\")\n",
    "            return None\n",
    "    else:\n",
    "        print(f\"Failed to retrieve description. Status code: {response.status_code}\")\n",
    "        return None\n",
    "\n",
    "chebi_id = \"CHEBI:58245\"\n",
    "cid = chebi_to_cid(chebi_id)\n",
    "\n",
    "if cid:\n",
    "    description = get_pubchem_description(cid)\n",
    "    if description:\n",
    "        print(f\"Description: {description}\")\n",
    "    else:\n",
    "        print(\"Description not available.\")\n",
    "else:\n",
    "    print(\"No CID found; cannot fetch description.\")\n"
   ]
  },
  {
   "cell_type": "code",
   "execution_count": null,
   "metadata": {},
   "outputs": [],
   "source": [
    "import pandas as pd\n",
    "import requests\n",
    "\n",
    "def chebi_to_cid(chebi_id):\n",
    "    url = f\"https://pubchem.ncbi.nlm.nih.gov/rest/pug/compound/name/{chebi_id}/cids/JSON\"\n",
    "    response = requests.get(url)\n",
    "    if response.status_code == 200:\n",
    "        data = response.json()\n",
    "        if 'IdentifierList' in data:\n",
    "            return data['IdentifierList']['CID'][0]\n",
    "        else:\n",
    "            return None\n",
    "    else:\n",
    "        return None\n",
    "\n",
    "def get_pubchem_description(cid):\n",
    "    url = f\"https://pubchem.ncbi.nlm.nih.gov/rest/pug/compound/cid/{cid}/description/JSON\"\n",
    "    response = requests.get(url)\n",
    "    if response.status_code == 200:\n",
    "        data = response.json()\n",
    "        if 'InformationList' in data:\n",
    "            for info in data['InformationList']['Information']:\n",
    "                if 'Description' in info:\n",
    "                    return info['Description']\n",
    "        return None\n",
    "    else:\n",
    "        return None\n",
    "\n",
    "def process_chebi_ids(csv_file, output_file):\n",
    "    # Load the CSV file\n",
    "    df = pd.read_csv(csv_file)\n",
    "    \n",
    "    # Create a dictionary to store results\n",
    "    results = {}\n",
    "    \n",
    "    # Iterate over each ChEBI ID in the DataFrame\n",
    "    for index, row in df.iterrows():\n",
    "        chebi_id = row['ChEBI ID']\n",
    "        print(f\"Processing {chebi_id}...\")\n",
    "        \n",
    "        # Get the CID\n",
    "        cid = chebi_to_cid(chebi_id)\n",
    "        \n",
    "        # Get the description if a CID was found\n",
    "        if cid:\n",
    "            description = get_pubchem_description(cid)\n",
    "        else:\n",
    "            description = None\n",
    "        \n",
    "        # Store the result in the dictionary\n",
    "        results[chebi_id] = description\n",
    "    \n",
    "    # Convert the results dictionary to a DataFrame\n",
    "    result_df = pd.DataFrame(list(results.items()), columns=['ChEBI_ID', 'Description'])\n",
    "    \n",
    "    # Save the DataFrame to a new CSV file\n",
    "    result_df.to_csv(output_file, index=False)\n",
    "    print(f\"Results saved to {output_file}\")\n",
    "\n",
    "# Usage example\n",
    "input_csv_file = '/data/servilla/DT_HGNN/data/ChEBI_ID_183.csv'  # Replace with your input CSV file\n",
    "output_csv_file = '/data/servilla/DT_HGNN/data/ChEBI_desriptions_183.csv'  # The output CSV file\n",
    "\n",
    "process_chebi_ids(input_csv_file, output_csv_file)\n"
   ]
  },
  {
   "cell_type": "code",
   "execution_count": null,
   "metadata": {},
   "outputs": [],
   "source": [
    "import requests\n",
    "import pandas as pd\n",
    "\n",
    "def chebi_to_cid(chebi_id):\n",
    "    url = f\"https://pubchem.ncbi.nlm.nih.gov/rest/pug/compound/name/{chebi_id}/cids/JSON\"\n",
    "    response = requests.get(url)\n",
    "    if response.status_code == 200:\n",
    "        data = response.json()\n",
    "        if 'IdentifierList' in data:\n",
    "            return data['IdentifierList']['CID'][0]\n",
    "        else:\n",
    "            return None\n",
    "    else:\n",
    "        return None\n",
    "\n",
    "def get_pubchem_description(cid):\n",
    "    url = f\"https://pubchem.ncbi.nlm.nih.gov/rest/pug/compound/cid/{cid}/description/JSON\"\n",
    "    response = requests.get(url)\n",
    "    if response.status_code == 200:\n",
    "        data = response.json()\n",
    "        if 'InformationList' in data:\n",
    "            for info in data['InformationList']['Information']:\n",
    "                if 'Description' in info:\n",
    "                    return info['Description']\n",
    "        return None\n",
    "    else:\n",
    "        return None\n",
    "\n",
    "def get_chebi_info(chebi_id):\n",
    "    url = f\"https://www.ebi.ac.uk/chebi/ws/rest/chebiId/{chebi_id}\"\n",
    "    headers = {\"Accept\": \"application/json\"}\n",
    "    response = requests.get(url, headers=headers)\n",
    "    if response.status_code == 200:\n",
    "        data = response.json()\n",
    "        name = data.get('chebiAsciiName', None)\n",
    "        definition = data.get('definition', None)\n",
    "        return name, definition\n",
    "    else:\n",
    "        return None, None\n",
    "\n",
    "def process_chebi_ids(csv_file, output_file):\n",
    "    df = pd.read_csv(csv_file)\n",
    "    results = []\n",
    "\n",
    "    for index, row in df.iterrows():\n",
    "        chebi_id = row['ChEBI ID']\n",
    "        print(f\"Processing {chebi_id}...\")\n",
    "\n",
    "        name, chebi_definition = get_chebi_info(chebi_id)\n",
    "        cid = chebi_to_cid(chebi_id)\n",
    "        pubchem_description = get_pubchem_description(cid) if cid else None\n",
    "        \n",
    "        combined_description = \"\"\n",
    "        if pubchem_description:\n",
    "            combined_description += f\"PubChem Description: {pubchem_description}\"\n",
    "        if chebi_definition:\n",
    "            if combined_description:\n",
    "                combined_description += \" | \"\n",
    "            combined_description += f\"ChEBI Definition: {chebi_definition}\"\n",
    "\n",
    "        results.append({\n",
    "            'ChEBI ID': chebi_id,\n",
    "            'Name': name,\n",
    "            'Combined Description': combined_description\n",
    "        })\n",
    "\n",
    "    result_df = pd.DataFrame(results)\n",
    "    result_df.to_csv(output_file, index=False)\n",
    "    print(f\"Results saved to {output_file}\")\n",
    "\n",
    "# Usage example\n",
    "input_csv_file = '/data/servilla/DT_HGNN/data/ChEBI_ID_183.csv'  # Replace with your input CSV file\n",
    "output_csv_file = '/data/servilla/DT_HGNN/data/ChEBI_name_definition.csv'  # The output CSV file\n",
    "\n",
    "process_chebi_ids(input_csv_file, output_csv_file)\n"
   ]
  },
  {
   "cell_type": "code",
   "execution_count": 29,
   "metadata": {},
   "outputs": [],
   "source": [
    "import pandas as pd\n",
    "\n",
    "df1 = pd.read_csv('/data/servilla/DT_HGNN/data/chebi_name_smiles_definition.csv')\n",
    "df2 = pd.read_csv('/data/servilla/DT_HGNN/data/ChEBI_desriptions_183.csv')\n",
    "\n",
    "df3 = df1[['ChEBI ID', 'SMILES', 'Name']]\n",
    "df3['Description'] = df2['Description']\n",
    "df3.to_csv('/data/servilla/DT_HGNN/data/ChEBI_name_smiles_description_combined.csv', index=False)\n"
   ]
  },
  {
   "cell_type": "code",
   "execution_count": 26,
   "metadata": {},
   "outputs": [],
   "source": [
    "df3_filtered = df3[df3.index.isin(df2.index)]\n"
   ]
  },
  {
   "cell_type": "code",
   "execution_count": 28,
   "metadata": {},
   "outputs": [],
   "source": [
    "df3_filtered.to_csv('/data/servilla/DT_HGNN/data/ChEBI_name_smiles_description_combined.csv', index=False)"
   ]
  },
  {
   "cell_type": "code",
   "execution_count": 30,
   "metadata": {},
   "outputs": [],
   "source": [
    "df1_filtered = df1[df1['ChEBI ID'].isin(df2['ChEBI ID'])]"
   ]
  },
  {
   "cell_type": "code",
   "execution_count": 31,
   "metadata": {},
   "outputs": [],
   "source": [
    "df1_filtered.to_csv('/data/servilla/DT_HGNN/data/chebi_name_smiles_definition_filtered1.csv', index=False)"
   ]
  },
  {
   "cell_type": "code",
   "execution_count": 32,
   "metadata": {},
   "outputs": [
    {
     "name": "stdout",
     "output_type": "stream",
     "text": [
      "The indexes of df1 and df2 are exactly the same.\n"
     ]
    }
   ],
   "source": [
    "# Check if the indexes are the same\n",
    "indexes_match = df2.index.equals(df3_filtered.index)\n",
    "\n",
    "if indexes_match:\n",
    "    print(\"The indexes of df1 and df2 are exactly the same.\")\n",
    "else:\n",
    "    print(\"The indexes of df1 and df2 are not the same.\")\n",
    "    \n",
    "# Optionally, you can also print the differences, if any\n",
    "if not indexes_match:\n",
    "    print(\"Indexes in df1 but not in df2:\", df1.index.difference(df2.index))\n",
    "    print(\"Indexes in df2 but not in df1:\", df2.index.difference(df1.index))\n"
   ]
  },
  {
   "cell_type": "code",
   "execution_count": 1,
   "metadata": {},
   "outputs": [
    {
     "name": "stderr",
     "output_type": "stream",
     "text": [
      "/home/miservilla/miniconda3/envs/MLG/lib/python3.8/site-packages/xgboost/core.py:158: UserWarning: [06:54:00] WARNING: /workspace/src/common/error_msg.cc:27: The tree method `gpu_hist` is deprecated since 2.0.0. To use GPU training, set the `device` parameter to CUDA instead.\n",
      "\n",
      "    E.g. tree_method = \"hist\", device = \"cuda\"\n",
      "\n",
      "  warnings.warn(smsg, UserWarning)\n"
     ]
    },
    {
     "name": "stdout",
     "output_type": "stream",
     "text": [
      "GPU support is enabled in this XGBoost version.\n"
     ]
    }
   ],
   "source": [
    "import xgboost as xgb\n",
    "\n",
    "# Check for GPU support by trying to set up a parameter that uses GPU\n",
    "try:\n",
    "    params = {\"tree_method\": \"gpu_hist\"}\n",
    "    dtrain = xgb.DMatrix([[1, 2], [3, 4]], label=[0, 1])\n",
    "    xgb.train(params, dtrain, num_boost_round=1)\n",
    "    print(\"GPU support is enabled in this XGBoost version.\")\n",
    "except xgb.core.XGBoostError:\n",
    "    print(\"No GPU support detected in this XGBoost version.\")\n"
   ]
  }
 ],
 "metadata": {
  "kernelspec": {
   "display_name": "MLG",
   "language": "python",
   "name": "python3"
  },
  "language_info": {
   "codemirror_mode": {
    "name": "ipython",
    "version": 3
   },
   "file_extension": ".py",
   "mimetype": "text/x-python",
   "name": "python",
   "nbconvert_exporter": "python",
   "pygments_lexer": "ipython3",
   "version": "3.8.19"
  }
 },
 "nbformat": 4,
 "nbformat_minor": 2
}
