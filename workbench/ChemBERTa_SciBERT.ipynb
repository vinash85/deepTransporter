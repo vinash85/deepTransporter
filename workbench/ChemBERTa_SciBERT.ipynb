{
 "cells": [
  {
   "cell_type": "code",
   "execution_count": 1,
   "metadata": {},
   "outputs": [
    {
     "name": "stderr",
     "output_type": "stream",
     "text": [
      "/home/miservilla/miniconda3/envs/MLG/lib/python3.8/site-packages/huggingface_hub/file_download.py:1132: FutureWarning: `resume_download` is deprecated and will be removed in version 1.0.0. Downloads always resume when possible. If you want to force a new download, use `force_download=True`.\n",
      "  warnings.warn(\n"
     ]
    },
    {
     "name": "stdout",
     "output_type": "stream",
     "text": [
      "Embeddings saved with 'ChEBI ID' as the index.\n"
     ]
    }
   ],
   "source": [
    "from transformers import AutoTokenizer, AutoModel\n",
    "import torch\n",
    "import pandas as pd\n",
    "\n",
    "# Load the CSV file\n",
    "df = pd.read_csv('/data/servilla/DT_HGNN/data/Dusty_data/chebi_name_smiles_definition_183.csv')\n",
    "\n",
    "# Load KV-PLM pre-trained model for SMILES + domain knowledge\n",
    "tokenizer = AutoTokenizer.from_pretrained('seyonec/ChemBERTa-zinc-base-v1')\n",
    "kvplm_model = AutoModel.from_pretrained('seyonec/ChemBERTa-zinc-base-v1')\n",
    "\n",
    "# Tokenizing SMILES strings from the CSV file\n",
    "smiles_list = df['SMILES'].tolist()\n",
    "encoded_input = tokenizer(smiles_list, padding=True, truncation=True, return_tensors='pt', max_length=128)\n",
    "input_ids = encoded_input['input_ids']\n",
    "attention_mask = encoded_input['attention_mask']\n",
    "\n",
    "# Forward pass through the KV-PLM model\n",
    "with torch.no_grad():\n",
    "    outputs = kvplm_model(input_ids=input_ids, attention_mask=attention_mask)\n",
    "    smiles_embeddings = outputs.last_hidden_state[:, 0, :]  # CLS token embedding\n",
    "\n",
    "# Convert the embeddings to a DataFrame\n",
    "df_embeddings = pd.DataFrame(smiles_embeddings.numpy())\n",
    "\n",
    "# Add the 'ChEBI ID' column to the embeddings DataFrame\n",
    "df_embeddings['ChEBI ID'] = df['ChEBI ID'].values\n",
    "\n",
    "# Set 'ChEBI ID' as the index\n",
    "df_embeddings.set_index('ChEBI ID', inplace=True)\n",
    "\n",
    "# Save embeddings to a CSV file\n",
    "df_embeddings.to_csv('/data/servilla/DT_HGNN/data/Test/ChemBerta_SMILES_emb_183.csv')\n",
    "\n",
    "print(\"Embeddings saved with 'ChEBI ID' as the index.\")\n"
   ]
  },
  {
   "cell_type": "code",
   "execution_count": 3,
   "metadata": {},
   "outputs": [
    {
     "name": "stderr",
     "output_type": "stream",
     "text": [
      "/home/miservilla/miniconda3/envs/MLG/lib/python3.8/site-packages/huggingface_hub/file_download.py:1132: FutureWarning: `resume_download` is deprecated and will be removed in version 1.0.0. Downloads always resume when possible. If you want to force a new download, use `force_download=True`.\n",
      "  warnings.warn(\n",
      "Asking to truncate to max_length but no maximum length is provided and the model has no predefined maximum length. Default to no truncation.\n"
     ]
    },
    {
     "name": "stdout",
     "output_type": "stream",
     "text": [
      "Embeddings saved to /data/servilla/DT_HGNN/data/Embeddings/test_conc.csv\n"
     ]
    }
   ],
   "source": [
    "import pandas as pd\n",
    "import torch\n",
    "from transformers import AutoModel, AutoTokenizer\n",
    "\n",
    "# Load the CSV file\n",
    "csv_file_path = '/data/servilla/DT_HGNN/data/Dusty_data/chebi_name_smiles_definition_183.csv'\n",
    "df = pd.read_csv(csv_file_path, index_col='ChEBI ID')\n",
    "\n",
    "# Initialize ChemBERTa model for SMILES and SciBERT model for domain knowledge\n",
    "chemberta_model = AutoModel.from_pretrained('seyonec/ChemBERTa-zinc-base-v1')\n",
    "chemberta_tokenizer = AutoTokenizer.from_pretrained('seyonec/ChemBERTa-zinc-base-v1')\n",
    "\n",
    "scibert_model = AutoModel.from_pretrained('allenai/scibert_scivocab_uncased')\n",
    "scibert_tokenizer = AutoTokenizer.from_pretrained('allenai/scibert_scivocab_uncased')\n",
    "\n",
    "def get_chemberta_embedding(smiles):\n",
    "    inputs = chemberta_tokenizer(smiles, return_tensors='pt', padding=True, truncation=True)\n",
    "    with torch.no_grad():\n",
    "        outputs = chemberta_model(**inputs)\n",
    "    return outputs.last_hidden_state.mean(dim=1).squeeze().cpu().numpy()\n",
    "\n",
    "def get_scibert_embedding(definition):\n",
    "    inputs = scibert_tokenizer(definition, return_tensors='pt', padding=True, truncation=True)\n",
    "    with torch.no_grad():\n",
    "        outputs = scibert_model(**inputs)\n",
    "    return outputs.last_hidden_state.mean(dim=1).squeeze().cpu().numpy()\n",
    "\n",
    "# Process each row and compute embeddings\n",
    "embeddings = []\n",
    "for index, row in df.iterrows():\n",
    "    smiles = row['SMILES']\n",
    "    definition = row['Definition']\n",
    "    \n",
    "    # Get embeddings\n",
    "    chemberta_emb = get_chemberta_embedding(smiles)\n",
    "    scibert_emb = get_scibert_embedding(definition)\n",
    "    \n",
    "    # Concatenate embeddings (intra-fusion)\n",
    "    fused_embedding = torch.cat((torch.tensor(chemberta_emb), torch.tensor(scibert_emb)), dim=0)\n",
    "    \n",
    "    # Add to the list\n",
    "    embeddings.append(fused_embedding.numpy())\n",
    "\n",
    "# Convert embeddings to DataFrame and save as CSV\n",
    "embeddings_df = pd.DataFrame(embeddings, index=df.index)\n",
    "output_csv_file_path = '/data/servilla/DT_HGNN/data/Embeddings/test_conc.csv'\n",
    "embeddings_df.to_csv(output_csv_file_path)\n",
    "\n",
    "print(f\"Embeddings saved to {output_csv_file_path}\")\n"
   ]
  }
 ],
 "metadata": {
  "kernelspec": {
   "display_name": "MLG",
   "language": "python",
   "name": "python3"
  },
  "language_info": {
   "codemirror_mode": {
    "name": "ipython",
    "version": 3
   },
   "file_extension": ".py",
   "mimetype": "text/x-python",
   "name": "python",
   "nbconvert_exporter": "python",
   "pygments_lexer": "ipython3",
   "version": "3.8.19"
  }
 },
 "nbformat": 4,
 "nbformat_minor": 2
}
