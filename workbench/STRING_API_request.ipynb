{
 "cells": [
  {
   "cell_type": "code",
   "execution_count": 15,
   "metadata": {},
   "outputs": [
    {
     "name": "stdout",
     "output_type": "stream",
     "text": [
      "PPI list has been saved to /data_link/servilla/DT_HGNN/workbench/PPI_list.csv\n"
     ]
    }
   ],
   "source": [
    "import requests\n",
    "import csv\n",
    "import pandas as pd\n",
    "\n",
    "# Read the list of UniProt IDs from the input CSV file\n",
    "input_file = '/data_link/servilla/DT_HGNN/workbench/Entry_10.csv'\n",
    "output_file = '/data_link/servilla/DT_HGNN/workbench/PPI_list.csv'\n",
    "\n",
    "# Load the UniProt IDs into a list\n",
    "with open(input_file, mode='r') as file:\n",
    "    csv_reader = csv.reader(file)\n",
    "    list_of_UniProt = list(csv_reader)\n",
    "\n",
    "# Define the base URL for the STRING API\n",
    "base_url = 'https://string-db.org/api/tsv/interaction_partners?'\n",
    "\n",
    "# Initialize a list to store the PPI data\n",
    "PPI_list = []\n",
    "\n",
    "# Loop through each protein in the list\n",
    "for entry in list_of_UniProt:\n",
    "    UniProt = entry[0]\n",
    "    # Construct the complete URL with the protein ID\n",
    "    url = base_url + f'identifiers={UniProt}'\n",
    "\n",
    "    # Send a GET request using the requests library\n",
    "    response = requests.get(url)\n",
    "\n",
    "    # Check for a successful response (status code 200)\n",
    "    if response.status_code == 200:\n",
    "        # Access the data as a string\n",
    "        data = response.text\n",
    "\n",
    "        # Split the data into lines and prepend each line with the UniProt ID\n",
    "        lines = data.strip().split('\\n')\n",
    "        for line in lines[1:]:  # Skip the header line from the API response\n",
    "            PPI_list.append(f'{UniProt}\\t{line}')\n",
    "    else:\n",
    "        PPI_list.append(UniProt)\n",
    "\n",
    "# Add the header line at the beginning\n",
    "header = \"UniProt\\tstringId_A\\tstringId_B\\tpreferredName_A\\tpreferredName_B\\tncbiTaxonId\\tscore\\tnscore\\tfscore\\tpscore\\tascore\\tescore\\tdscore\\ttscore\"\n",
    "PPI_list.insert(0, header)\n",
    "\n",
    "# Write the PPI data to the output CSV file\n",
    "with open(output_file, mode='w', newline='') as file:\n",
    "    writer = csv.writer(file, delimiter='\\t')\n",
    "    for line in PPI_list:\n",
    "        writer.writerow(line.split('\\t'))\n",
    "\n",
    "print(\"PPI list has been saved to\", output_file)"
   ]
  }
 ],
 "metadata": {
  "kernelspec": {
   "display_name": "xgboost_gpu",
   "language": "python",
   "name": "python3"
  },
  "language_info": {
   "codemirror_mode": {
    "name": "ipython",
    "version": 3
   },
   "file_extension": ".py",
   "mimetype": "text/x-python",
   "name": "python",
   "nbconvert_exporter": "python",
   "pygments_lexer": "ipython3",
   "version": "3.8.19"
  }
 },
 "nbformat": 4,
 "nbformat_minor": 2
}
