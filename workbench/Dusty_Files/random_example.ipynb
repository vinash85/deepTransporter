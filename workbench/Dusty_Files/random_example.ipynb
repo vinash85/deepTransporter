{
 "cells": [
  {
   "cell_type": "code",
   "execution_count": 31,
   "metadata": {},
   "outputs": [
    {
     "name": "stdout",
     "output_type": "stream",
     "text": [
      "Negative edges:\n",
      " [[2 0]\n",
      " [0 3]\n",
      " [3 2]\n",
      " [1 3]]\n"
     ]
    }
   ],
   "source": [
    "import numpy as np\n",
    "\n",
    "# Set the random seed for reproducibility\n",
    "np.random.seed(42)\n",
    "\n",
    "# Example nodes and positive edges\n",
    "nodes = [0, 1, 2, 3]\n",
    "positive_edges_set = {(0, 1), (1, 2)}\n",
    "\n",
    "num_negatives = 4\n",
    "num_nodes = len(nodes)\n",
    "negative_edges = []\n",
    "\n",
    "while len(negative_edges) < num_negatives:\n",
    "    edges = np.random.randint(0, num_nodes, size=(2, num_negatives - len(negative_edges)))\n",
    "    for edge in edges.T:\n",
    "        if edge[0] != edge[1] and (edge[0], edge[1]) not in positive_edges_set and (edge[1], edge[0]) not in positive_edges_set:\n",
    "            negative_edges.append(edge)\n",
    "\n",
    "negative_edges = np.array(negative_edges)\n",
    "\n",
    "print(\"Negative edges:\\n\", negative_edges)\n"
   ]
  },
  {
   "cell_type": "code",
   "execution_count": 7,
   "metadata": {},
   "outputs": [
    {
     "name": "stdout",
     "output_type": "stream",
     "text": [
      "[[0 3 3 1 4 0]\n",
      " [1 0 1 3 1 2]]\n"
     ]
    }
   ],
   "source": [
    "import numpy as np\n",
    "\n",
    "num_nodes = 5\n",
    "num_negatives = 10\n",
    "negative_edges = [(0, 1), (2, 3), (1, 4), (3, 0)]  # Example already existing negative edges\n",
    "\n",
    "edges = np.random.randint(0, num_nodes, size=(2, num_negatives - len(negative_edges)))\n",
    "print(edges)\n"
   ]
  }
 ],
 "metadata": {
  "kernelspec": {
   "display_name": "MLG",
   "language": "python",
   "name": "python3"
  },
  "language_info": {
   "codemirror_mode": {
    "name": "ipython",
    "version": 3
   },
   "file_extension": ".py",
   "mimetype": "text/x-python",
   "name": "python",
   "nbconvert_exporter": "python",
   "pygments_lexer": "ipython3",
   "version": "3.8.19"
  }
 },
 "nbformat": 4,
 "nbformat_minor": 2
}
