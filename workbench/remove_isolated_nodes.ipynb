{
 "cells": [
  {
   "cell_type": "code",
   "execution_count": 3,
   "metadata": {},
   "outputs": [],
   "source": [
    "import os\n",
    "import torch\n",
    "from torch.cuda.amp import autocast, GradScaler\n",
    "from torch_geometric.data import Data\n",
    "import pandas as pd\n",
    "import numpy as np\n",
    "import torch.nn as nn\n",
    "from torch.nn import Linear\n",
    "import torch.nn.functional as F\n",
    "from torch_geometric.nn import SAGEConv\n",
    "from sklearn.model_selection import train_test_split, StratifiedKFold\n",
    "from sklearn.metrics import accuracy_score\n",
    "import copy\n",
    "import networkx as nx\n",
    "import matplotlib.pyplot as plt"
   ]
  },
  {
   "cell_type": "code",
   "execution_count": 4,
   "metadata": {},
   "outputs": [
    {
     "name": "stdout",
     "output_type": "stream",
     "text": [
      "Using GPU: NVIDIA H100 PCIe\n",
      "Device ID: 1\n"
     ]
    }
   ],
   "source": [
    "torch.cuda.set_device(1)  # Use GPU 1\n",
    "\n",
    "# Verify that the correct GPU is being used\n",
    "if torch.cuda.is_available():\n",
    "    current_device = torch.cuda.current_device()\n",
    "    print(f\"Using GPU: {torch.cuda.get_device_name(current_device)}\")\n",
    "    print(f\"Device ID: {current_device}\")"
   ]
  },
  {
   "cell_type": "code",
   "execution_count": 10,
   "metadata": {},
   "outputs": [],
   "source": [
    "# Load node features\n",
    "s_df = pd.read_csv('/data/servilla/DT_HGNN/Nodes/s_emb_183.csv', index_col=0)  # Substrates CSV file\n",
    "proteins_df = pd.read_csv('/data/servilla/DT_HGNN/Nodes/p_emb_filtered.csv', index_col=0)  # Combined proteins CSV file\n",
    "\n",
    "# Load edges\n",
    "tp_s_df = pd.read_csv('/data/servilla/DT_HGNN/Edges/trans_sub_edges_13347.csv', index_col=0)\n",
    "ppi_df = pd.read_csv('/data/servilla/DT_HGNN/Edges/ppi_edges_6663523.csv', index_col=0)\n",
    "ssi_df = pd.read_csv('/data/servilla/DT_HGNN/Edges/rhea_edges_2186.csv', index_col=0)"
   ]
  },
  {
   "cell_type": "code",
   "execution_count": 11,
   "metadata": {},
   "outputs": [
    {
     "name": "stdout",
     "output_type": "stream",
     "text": [
      "Total protein nodes: 237197\n",
      "Connected protein nodes: 237377\n",
      "Isolated protein nodes: 0\n",
      "Total substrate nodes: 183\n",
      "Connected substrate nodes: 12492\n",
      "Isolated substrate nodes: 0\n"
     ]
    }
   ],
   "source": [
    "# Create sets of all node labels for proteins and substrates\n",
    "protein_labels = set(proteins_df.index.tolist())\n",
    "substrate_labels = set(s_df.index.tolist())\n",
    "\n",
    "# Identify connected nodes for proteins and substrates\n",
    "connected_protein_labels = set(tp_s_df['source']).union(set(tp_s_df['target']),\n",
    "                                                        set(ppi_df['source']), set(ppi_df['target']))\n",
    "\n",
    "connected_substrate_labels = set(tp_s_df['source']).union(set(tp_s_df['target']),\n",
    "                                                          set(ssi_df['source']), set(ssi_df['target']))\n",
    "\n",
    "# Identify isolated nodes for proteins and substrates\n",
    "isolated_protein_labels = protein_labels - connected_protein_labels\n",
    "isolated_substrate_labels = substrate_labels - connected_substrate_labels\n",
    "\n",
    "# Print the counts of connected and isolated nodes\n",
    "print(f\"Total protein nodes: {len(protein_labels)}\")\n",
    "print(f\"Connected protein nodes: {len(connected_protein_labels)}\")\n",
    "print(f\"Isolated protein nodes: {len(isolated_protein_labels)}\")\n",
    "\n",
    "print(f\"Total substrate nodes: {len(substrate_labels)}\")\n",
    "print(f\"Connected substrate nodes: {len(connected_substrate_labels)}\")\n",
    "print(f\"Isolated substrate nodes: {len(isolated_substrate_labels)}\")\n",
    "\n",
    "# # Convert sets to lists for easier handling\n",
    "# connected_protein_labels = list(connected_protein_labels)\n",
    "# isolated_protein_labels = list(isolated_protein_labels)\n",
    "# connected_substrate_labels = list(connected_substrate_labels)\n",
    "# isolated_substrate_labels = list(isolated_substrate_labels)\n",
    "\n",
    "# # Save lists to files\n",
    "# with open('/data/servilla/DT_HGNN/workbench/connected_isolated_nodes/connected_protein_nodes.txt', 'w') as f:\n",
    "#     for item in connected_protein_labels:\n",
    "#         f.write(\"%s\\n\" % item)\n",
    "\n",
    "# with open('/data/servilla/DT_HGNN/workbench/connected_isolated_nodes/isolated_protein_nodes.txt', 'w') as f:\n",
    "#     for item in isolated_protein_labels:\n",
    "#         f.write(\"%s\\n\" % item)\n",
    "\n",
    "# with open('/data/servilla/DT_HGNN/workbench/connected_isolated_nodes/connected_substrate_nodes.txt', 'w') as f:\n",
    "#     for item in connected_substrate_labels:\n",
    "#         f.write(\"%s\\n\" % item)\n",
    "\n",
    "# with open('/data/servilla/DT_HGNN/workbench/connected_isolated_nodes/isolated_substrate_nodes.txt', 'w') as f:\n",
    "#     for item in isolated_substrate_labels:\n",
    "#         f.write(\"%s\\n\" % item)\n",
    "\n",
    "# print(\"Lists of connected and isolated nodes for proteins and substrates saved.\")"
   ]
  },
  {
   "cell_type": "code",
   "execution_count": 9,
   "metadata": {},
   "outputs": [
    {
     "name": "stdout",
     "output_type": "stream",
     "text": [
      "Filtered protein embeddings saved to p_emb_filtered.csv.\n"
     ]
    }
   ],
   "source": [
    "import pandas as pd\n",
    "\n",
    "# Load the isolated protein nodes\n",
    "isolated_proteins_path = '/data/servilla/DT_HGNN/workbench/connected_isolated_nodes/isolated_protein_nodes.txt'\n",
    "with open(isolated_proteins_path, 'r') as file:\n",
    "    isolated_protein_nodes = file.read().splitlines()\n",
    "\n",
    "# Load the p_emb.csv file\n",
    "proteins_df = pd.read_csv('/data/servilla/DT_HGNN/Nodes/p_emb.csv', index_col=0)\n",
    "\n",
    "# Filter out the isolated protein nodes\n",
    "filtered_proteins_df = proteins_df[~proteins_df.index.isin(isolated_protein_nodes)]\n",
    "\n",
    "# Save the filtered DataFrame to a new CSV file\n",
    "filtered_proteins_df.to_csv('/data/servilla/DT_HGNN/Nodes/p_emb_filtered.csv')\n",
    "\n",
    "print(\"Filtered protein embeddings saved to p_emb_filtered.csv.\")\n"
   ]
  }
 ],
 "metadata": {
  "kernelspec": {
   "display_name": "MLG",
   "language": "python",
   "name": "python3"
  },
  "language_info": {
   "codemirror_mode": {
    "name": "ipython",
    "version": 3
   },
   "file_extension": ".py",
   "mimetype": "text/x-python",
   "name": "python",
   "nbconvert_exporter": "python",
   "pygments_lexer": "ipython3",
   "version": "3.8.19"
  }
 },
 "nbformat": 4,
 "nbformat_minor": 2
}
